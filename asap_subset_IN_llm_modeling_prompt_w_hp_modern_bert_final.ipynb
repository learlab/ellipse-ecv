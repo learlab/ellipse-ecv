{
 "cells": [
  {
   "cell_type": "markdown",
   "id": "8d4849f3-51e1-4299-9f55-9c70c1f1c431",
   "metadata": {
    "id": "8d4849f3-51e1-4299-9f55-9c70c1f1c431"
   },
   "source": [
    "# Ellipse analyses with hyper-parameters\n",
    "\n",
    "Purpose\n",
    "\n",
    "    - Use hyperparameter search findings on a subset of the ELLIPSE dataset \n",
    "    - Develop LLM scoring models for the subset ASAP 2.0 data for cohesion using a Fine-tuned transformer based on hyperparameters.\n",
    "    - This only uses the training and test set. No need for dev set because already tuned for hyperparameters.\n"
   ]
  },
  {
   "cell_type": "markdown",
   "id": "tvifvn_cTHsY",
   "metadata": {
    "id": "tvifvn_cTHsY"
   },
   "source": [
    "## Dataset is ASAP 2.0.\n",
    "\n",
    "https://www.kaggle.com/competitions/learning-agency-lab-automated-essay-scoring-2/data\n",
    "\n",
    "This is only looking at the Indiana Data\n",
    "\n",
    "~12,000 source-based essays of the original 25,000 essays\n",
    "\n",
    "Scored from 1-6\n",
    "\n",
    "Training and test sets defined\n",
    "\n",
    "A variety of demographic information available including\n",
    "\n",
    "  - economic disadvantage\n",
    "  - disability (both gifted and challenged)\n",
    "  - ELL\n",
    "  - Race\n",
    "  - Gender\n",
    "  - Grade"
   ]
  },
  {
   "attachments": {
    "a741233c-05af-4e06-92ca-a46899719a29.png": {
     "image/png": "[encoded data removed]"
    }
   },
   "cell_type": "markdown",
   "id": "0abbc1b7-f4b4-4cdd-93ed-ce92742fe4c6",
   "metadata": {
    "id": "0abbc1b7-f4b4-4cdd-93ed-ce92742fe4c6"
   },
   "source": [
    "## Install Packages\n",
    "\n",
    "If you use the hugging_face environment, you will not need to install packages\n",
    "\n",
    "![image.png](attachment:a741233c-05af-4e06-92ca-a46899719a29.png)\n",
    "\n",
    "This was set up using this [link](https://github.com/learlab/development-server/wiki/Using-JupyterHub#virtual-environments-in-python)"
   ]
  },
  {
   "cell_type": "code",
   "execution_count": 1,
   "id": "6067752c-e281-4ffe-9140-828d158751a1",
   "metadata": {
    "colab": {
     "base_uri": "https://localhost:8080/"
    },
    "id": "6067752c-e281-4ffe-9140-828d158751a1",
    "outputId": "59d2a5e2-afe2-4a60-f230-03a76d581e42"
   },
   "outputs": [
    {
     "name": "stdout",
     "output_type": "stream",
     "text": [
      "Requirement already satisfied: scikit-learn in /home/jovyan/conda_envs/wes-env2/lib/python3.11/site-packages (1.6.1)\n",
      "Requirement already satisfied: numpy>=1.19.5 in /home/jovyan/conda_envs/wes-env2/lib/python3.11/site-packages (from scikit-learn) (2.2.2)\n",
      "Requirement already satisfied: scipy>=1.6.0 in /home/jovyan/conda_envs/wes-env2/lib/python3.11/site-packages (from scikit-learn) (1.15.1)\n",
      "Requirement already satisfied: joblib>=1.2.0 in /home/jovyan/conda_envs/wes-env2/lib/python3.11/site-packages (from scikit-learn) (1.4.2)\n",
      "Requirement already satisfied: threadpoolctl>=3.1.0 in /home/jovyan/conda_envs/wes-env2/lib/python3.11/site-packages (from scikit-learn) (3.5.0)\n"
     ]
    }
   ],
   "source": [
    "!pip install --upgrade scikit-learn\n",
    "#!pip install transformers[torch]\n",
    "#!pip install --quiet transformers[torch] #datasets evaluate pingouin\n",
    "# !pip install --quiet evaluate"
   ]
  },
  {
   "cell_type": "markdown",
   "id": "b4b4f46c-e1c0-4abc-9498-a45211bcf9a6",
   "metadata": {
    "id": "b4b4f46c-e1c0-4abc-9498-a45211bcf9a6"
   },
   "source": [
    "## Import packages"
   ]
  },
  {
   "cell_type": "code",
   "execution_count": 1,
   "id": "6e8355e6-b527-458a-be62-3d9de8c36ee6",
   "metadata": {},
   "outputs": [],
   "source": [
    "#install transformers and other packages that might not exist\n",
    "#!pip install transformers\n",
    "#!pip install datasets\n",
    "#!pip install evaluate\n",
    "#!pip install transformers[sentencepiece]"
   ]
  },
  {
   "cell_type": "code",
   "execution_count": 2,
   "id": "12a7a030-d7ec-40f9-aca2-c4490abd375f",
   "metadata": {},
   "outputs": [],
   "source": [
    "#had some problems and needed to upgrade some stuff\n",
    "\n",
    "#!pip install --upgrade pyarrow\n",
    "#!pip uninstall -y datasets\n",
    "#!pip install datasets"
   ]
  },
  {
   "cell_type": "code",
   "execution_count": 3,
   "id": "aa28c36f-7eb2-4a9b-89f8-41672d46336c",
   "metadata": {},
   "outputs": [],
   "source": [
    "#!pip install scikit-learn\n",
    "\n",
    "\n",
    "#import libraries that are not problematic\n",
    "\n",
    "import pandas as pd # You know what this is\n",
    "import sklearn\n",
    "import numpy as np # Numpy is for whenever you have numbers in Python\n",
    "import seaborn as sns # Plotting library based on MatPlotLib\n",
    "from scipy import stats # Statistical distributions, functions, and a few tests\n",
    "from IPython.display import display # print(), but for HTML output (like Pandas dataframes)"
   ]
  },
  {
   "cell_type": "code",
   "execution_count": 4,
   "id": "b04c8baa-f11e-418c-96dd-e2a12ecdd49f",
   "metadata": {},
   "outputs": [],
   "source": [
    "# The following packages and modules are all from HuggingFace\n",
    "\n",
    "# A class for managing data with lots of useful features for model training\n",
    "#!pip install --upgrade datasets\n",
    "import datasets\n",
    "from datasets import load_dataset, Dataset, DatasetDict"
   ]
  },
  {
   "cell_type": "code",
   "execution_count": 5,
   "id": "6afa3949-c286-4a82-af4f-c5f7594a6c97",
   "metadata": {
    "id": "6afa3949-c286-4a82-af4f-c5f7594a6c97"
   },
   "outputs": [],
   "source": [
    "\n",
    "# The following packages and modules are all from HuggingFace\n",
    "\n",
    "# We import four classes from transformers.\n",
    "from transformers import (\n",
    "    # All language models start with tokens (by definition)\n",
    "    AutoTokenizer,\n",
    "    # Convenience class for creating and using transformer-based sequence classifiers\n",
    "    AutoModelForSequenceClassification,\n",
    "    # Configuration class for managing, you guessed it, training arguments\n",
    "    TrainingArguments,\n",
    "    # A class that abstracts away the PyTorch training loop.\n",
    "    Trainer,\n",
    "    # A data collator organizes (collates) the data into batches for training\n",
    "    # It will also add special [PAD] tokens to make all the sequences in a batch the same length\n",
    "    # Batches with equal-length sequences make our GPU go brr\n",
    "    DataCollatorWithPadding,\n",
    "    DefaultDataCollator\n",
    ")\n",
    "\n",
    "# A library for performance evaluations metrics\n",
    "# Especially useful for complex and task-specific metrics\n",
    "# For example, the GLUE metric can score language models on a suite of popular benchmarks\n",
    "# But we will just use some simple metrics today\n",
    "import evaluate\n",
    "\n",
    "# Pipelines are used to streamline tokenization and inference\n",
    "# We will create a pipeline after finetuning!\n",
    "from transformers import pipeline\n",
    "\n",
    "\n",
    "\n"
   ]
  },
  {
   "cell_type": "markdown",
   "id": "drVzGXJfVnvU",
   "metadata": {
    "id": "drVzGXJfVnvU"
   },
   "source": [
    "## Load and Prepare ASAP Corpus"
   ]
  },
  {
   "cell_type": "code",
   "execution_count": 6,
   "id": "i196JuFEGHyI",
   "metadata": {
    "colab": {
     "base_uri": "https://localhost:8080/"
    },
    "id": "i196JuFEGHyI",
    "outputId": "ee4cfec1-7d9d-47a2-ba21-b3c138092c26"
   },
   "outputs": [],
   "source": [
    "asap_df = (\n",
    "    pd.read_csv(\"data/ASAP2_new_IN_data_only_w_splits.csv\"))\n",
    "\n",
    "# Load the tokenizer to combine prompt and text\n",
    "model_id = \"answerdotai/ModernBERT-base\"\n",
    "tokenizer = AutoTokenizer.from_pretrained(model_id)\n",
    "asap_df['text'] = asap_df['full_text'] + tokenizer.sep_token + asap_df['assignment']"
   ]
  },
  {
   "cell_type": "markdown",
   "id": "1b6ce5b0-369d-4f4c-8719-73fff64697bc",
   "metadata": {},
   "source": [
    "### Basic descriptives"
   ]
  },
  {
   "cell_type": "code",
   "execution_count": 7,
   "id": "2554e5a4-53f0-426d-b00a-ac191f6f8cc1",
   "metadata": {},
   "outputs": [
    {
     "name": "stdout",
     "output_type": "stream",
     "text": [
      "(11826, 18)\n",
      "['train' 'test' 'dev']\n",
      "stratified_split\n",
      "train    5913\n",
      "test     2957\n",
      "dev      2956\n",
      "Name: count, dtype: int64\n"
     ]
    }
   ],
   "source": [
    "print(asap_df.shape)\n",
    "\n",
    "print(asap_df['stratified_split'].unique())\n",
    "print(asap_df['stratified_split'].value_counts())"
   ]
  },
  {
   "cell_type": "code",
   "execution_count": 8,
   "id": "b005d9d5-34e6-4f0c-9491-84754e22b04f",
   "metadata": {},
   "outputs": [
    {
     "name": "stdout",
     "output_type": "stream",
     "text": [
      "mean number of words = 345.252600422833\n",
      "sd for number of words = 137.23794146671835\n",
      "max for number of words = 1213.0\n",
      "essays that are over 512 word = 1386\n"
     ]
    }
   ],
   "source": [
    "#number of words\n",
    "\n",
    "mean_nw = asap_df['essay_word_count'].mean()\n",
    "sd_nw = asap_df['essay_word_count'].std()\n",
    "max_nw = asap_df['essay_word_count'].max()\n",
    "\n",
    "print(f'mean number of words = {mean_nw}')\n",
    "print(f'sd for number of words = {sd_nw}')\n",
    "print(f'max for number of words = {max_nw}')\n",
    "\n",
    "\n",
    "#how many essays are greated than 512 words? (almost 1,400)\n",
    "\n",
    "llm_max = 512\n",
    "\n",
    "llm_over = (asap_df['essay_word_count'] > llm_max).sum()\n",
    "print(f'essays that are over 512 word = {llm_over}')\n"
   ]
  },
  {
   "cell_type": "code",
   "execution_count": 9,
   "id": "ddbf15c8-9f93-48c4-ab92-5ac32c2eed0e",
   "metadata": {},
   "outputs": [
    {
     "name": "stdout",
     "output_type": "stream",
     "text": [
      "prompt_name\n",
      "Driverless cars                  4280\n",
      "Facial action coding system      2710\n",
      "Exploring Venus                  2611\n",
      "The Face on Mars                 1423\n",
      "\"A Cowboy Who Rode the Waves\"     802\n",
      "Name: count, dtype: int64\n",
      "\n",
      "\n",
      "economically_disadvantaged\n",
      "Economically disadvantaged        7843\n",
      "Not economically disadvantaged    3982\n",
      "Name: count, dtype: int64\n",
      "\n",
      "\n",
      "student_disability_status\n",
      "Not identified as having disability    10292\n",
      "Identified as having disability         1533\n",
      "Name: count, dtype: int64\n",
      "\n",
      "\n",
      "ell_status\n",
      "No     9447\n",
      "Yes    2069\n",
      "Name: count, dtype: int64\n",
      "\n",
      "\n",
      "race_ethnicity\n",
      "White                             3887\n",
      "Hispanic/Latino                   3641\n",
      "Black/African American            2354\n",
      "Two or more races/Other           1018\n",
      "Asian/Pacific Islander             866\n",
      "American Indian/Alaskan Native      55\n",
      "Name: count, dtype: int64\n",
      "\n",
      "\n",
      "gender\n",
      "M    6203\n",
      "F    5622\n",
      "Name: count, dtype: int64\n",
      "\n",
      "\n",
      "grade_level\n",
      "10    9601\n",
      "8     1423\n",
      "6      802\n",
      "Name: count, dtype: int64\n"
     ]
    }
   ],
   "source": [
    "#statistics on the data itself\n",
    "\n",
    "prompt_count = asap_df['prompt_name'].value_counts()\n",
    "ed_count = asap_df['economically_disadvantaged'].value_counts()\n",
    "sd_count = asap_df['student_disability_status'].value_counts()\n",
    "ell_count = asap_df['ell_status'].value_counts()\n",
    "re_count = asap_df['race_ethnicity'].value_counts()\n",
    "gen_count = asap_df['gender'].value_counts()\n",
    "grade_count = asap_df['grade_level'].value_counts()\n",
    "\n",
    "print(prompt_count)\n",
    "print(\"\\n\")\n",
    "print(ed_count)\n",
    "print(\"\\n\")\n",
    "print(sd_count)\n",
    "print(\"\\n\")\n",
    "print(ell_count)\n",
    "print(\"\\n\")\n",
    "print(re_count)\n",
    "print(\"\\n\")\n",
    "print(gen_count)\n",
    "print(\"\\n\")\n",
    "print(grade_count)"
   ]
  },
  {
   "cell_type": "code",
   "execution_count": 10,
   "id": "82a59972-68f4-479f-b3de-268b3c07a346",
   "metadata": {},
   "outputs": [
    {
     "name": "stdout",
     "output_type": "stream",
     "text": [
      "<class 'pandas.core.frame.DataFrame'>\n",
      "RangeIndex: 11826 entries, 0 to 11825\n",
      "Data columns (total 3 columns):\n",
      " #   Column            Non-Null Count  Dtype \n",
      "---  ------            --------------  ----- \n",
      " 0   text              11825 non-null  object\n",
      " 1   label             11826 non-null  int64 \n",
      " 2   stratified_split  11826 non-null  object\n",
      "dtypes: int64(1), object(2)\n",
      "memory usage: 277.3+ KB\n",
      "None\n",
      "<class 'pandas.core.frame.DataFrame'>\n",
      "Index: 11825 entries, 0 to 11825\n",
      "Data columns (total 3 columns):\n",
      " #   Column            Non-Null Count  Dtype \n",
      "---  ------            --------------  ----- \n",
      " 0   text              11825 non-null  object\n",
      " 1   label             11825 non-null  int64 \n",
      " 2   stratified_split  11825 non-null  object\n",
      "dtypes: int64(1), object(2)\n",
      "memory usage: 369.5+ KB\n",
      "None\n"
     ]
    },
    {
     "data": {
      "text/html": [
       "<div>\n",
       "<style scoped>\n",
       "    .dataframe tbody tr th:only-of-type {\n",
       "        vertical-align: middle;\n",
       "    }\n",
       "\n",
       "    .dataframe tbody tr th {\n",
       "        vertical-align: top;\n",
       "    }\n",
       "\n",
       "    .dataframe thead th {\n",
       "        text-align: right;\n",
       "    }\n",
       "</style>\n",
       "<table border=\"1\" class=\"dataframe\">\n",
       "  <thead>\n",
       "    <tr style=\"text-align: right;\">\n",
       "      <th></th>\n",
       "      <th>text</th>\n",
       "      <th>label</th>\n",
       "      <th>stratified_split</th>\n",
       "    </tr>\n",
       "  </thead>\n",
       "  <tbody>\n",
       "    <tr>\n",
       "      <th>0</th>\n",
       "      <td>Being a Seagoing Cowboy is really fun, but als...</td>\n",
       "      <td>4</td>\n",
       "      <td>train</td>\n",
       "    </tr>\n",
       "    <tr>\n",
       "      <th>1</th>\n",
       "      <td>To whom ever reads this at the end, you might ...</td>\n",
       "      <td>5</td>\n",
       "      <td>train</td>\n",
       "    </tr>\n",
       "    <tr>\n",
       "      <th>2</th>\n",
       "      <td>Have you ever wondered about what you might do...</td>\n",
       "      <td>3</td>\n",
       "      <td>train</td>\n",
       "    </tr>\n",
       "    <tr>\n",
       "      <th>3</th>\n",
       "      <td>I believe that you should join the Seagoing Co...</td>\n",
       "      <td>3</td>\n",
       "      <td>train</td>\n",
       "    </tr>\n",
       "    <tr>\n",
       "      <th>4</th>\n",
       "      <td>Would you like to participate in the Seagoing ...</td>\n",
       "      <td>4</td>\n",
       "      <td>test</td>\n",
       "    </tr>\n",
       "    <tr>\n",
       "      <th>...</th>\n",
       "      <td>...</td>\n",
       "      <td>...</td>\n",
       "      <td>...</td>\n",
       "    </tr>\n",
       "    <tr>\n",
       "      <th>11821</th>\n",
       "      <td>We've been discovering things almost everyday....</td>\n",
       "      <td>1</td>\n",
       "      <td>train</td>\n",
       "    </tr>\n",
       "    <tr>\n",
       "      <th>11822</th>\n",
       "      <td>In 1976 the queation was and everyone was also...</td>\n",
       "      <td>1</td>\n",
       "      <td>test</td>\n",
       "    </tr>\n",
       "    <tr>\n",
       "      <th>11823</th>\n",
       "      <td>25 years ago there was a face discovered by na...</td>\n",
       "      <td>1</td>\n",
       "      <td>train</td>\n",
       "    </tr>\n",
       "    <tr>\n",
       "      <th>11824</th>\n",
       "      <td>The\\n\\nfirst thing that i should include in my...</td>\n",
       "      <td>1</td>\n",
       "      <td>dev</td>\n",
       "    </tr>\n",
       "    <tr>\n",
       "      <th>11825</th>\n",
       "      <td>I will be talking to you about the face on mar...</td>\n",
       "      <td>1</td>\n",
       "      <td>dev</td>\n",
       "    </tr>\n",
       "  </tbody>\n",
       "</table>\n",
       "<p>11825 rows × 3 columns</p>\n",
       "</div>"
      ],
      "text/plain": [
       "                                                    text  label  \\\n",
       "0      Being a Seagoing Cowboy is really fun, but als...      4   \n",
       "1      To whom ever reads this at the end, you might ...      5   \n",
       "2      Have you ever wondered about what you might do...      3   \n",
       "3      I believe that you should join the Seagoing Co...      3   \n",
       "4      Would you like to participate in the Seagoing ...      4   \n",
       "...                                                  ...    ...   \n",
       "11821  We've been discovering things almost everyday....      1   \n",
       "11822  In 1976 the queation was and everyone was also...      1   \n",
       "11823  25 years ago there was a face discovered by na...      1   \n",
       "11824  The\\n\\nfirst thing that i should include in my...      1   \n",
       "11825  I will be talking to you about the face on mar...      1   \n",
       "\n",
       "      stratified_split  \n",
       "0                train  \n",
       "1                train  \n",
       "2                train  \n",
       "3                train  \n",
       "4                 test  \n",
       "...                ...  \n",
       "11821            train  \n",
       "11822             test  \n",
       "11823            train  \n",
       "11824              dev  \n",
       "11825              dev  \n",
       "\n",
       "[11825 rows x 3 columns]"
      ]
     },
     "execution_count": 10,
     "metadata": {},
     "output_type": "execute_result"
    }
   ],
   "source": [
    "#get columns you want and rename them using correct conventions\n",
    "asap_df2 = asap_df[['text', 'score', 'stratified_split']].rename(columns={'score': 'label'})\n",
    "\n",
    "# Check for and remove missing data\n",
    "print(asap_df2.info())\n",
    "asap_df2=asap_df2.dropna(how='any')\n",
    "print(asap_df2.info())\n",
    "asap_df2\n"
   ]
  },
  {
   "cell_type": "code",
   "execution_count": 11,
   "id": "bb3bd256-4722-4403-a313-e1ffededac25",
   "metadata": {},
   "outputs": [
    {
     "name": "stdout",
     "output_type": "stream",
     "text": [
      "text                object\n",
      "label                int64\n",
      "stratified_split    object\n",
      "dtype: object\n",
      "text                 object\n",
      "label               float64\n",
      "stratified_split     object\n",
      "dtype: object\n"
     ]
    }
   ],
   "source": [
    "print(asap_df2.dtypes)\n",
    "\n",
    "#label is a int64, but it needs to be float64 for the transformer to work\n",
    "\n",
    "asap_df2['label'] = asap_df2['label'].astype('float64')\n",
    "\n",
    "print(asap_df2.dtypes)"
   ]
  },
  {
   "cell_type": "markdown",
   "id": "e8ce2fc3-c624-4475-b5d6-ccaf7483870c",
   "metadata": {},
   "source": [
    "\n"
   ]
  },
  {
   "cell_type": "markdown",
   "id": "gOq24UWyVtRd",
   "metadata": {
    "id": "gOq24UWyVtRd"
   },
   "source": [
    "### Get training and test sets\n",
    "\n",
    "These are already defined in the datasets. Just need to divide and name them\n",
    "\n",
    "This is with a validation set used for hyperparameters\n",
    "\n",
    "Training and test sets would be different and found underset.\n",
    "\n"
   ]
  },
  {
   "cell_type": "code",
   "execution_count": 12,
   "id": "54187b04-0fa3-4059-a395-bc59779d713d",
   "metadata": {},
   "outputs": [],
   "source": [
    "# Don't use entirety of \"test\" - just use the private \"test\"\n",
    "# For training, only use \"train\" for training; don't use public \"test\" because it was used for hyperparamter tuning\n",
    "\n",
    "asap_dd = datasets.DatasetDict({\n",
    "   \"train\": datasets.Dataset.from_pandas(asap_df2[asap_df2[\"stratified_split\"] == \"train\"]),\n",
    "   \"test\": datasets.Dataset.from_pandas(asap_df2[asap_df2[\"stratified_split\"] == \"test\"])\n",
    "})"
   ]
  },
  {
   "cell_type": "code",
   "execution_count": 13,
   "id": "qchJ1DwDbjms",
   "metadata": {
    "colab": {
     "base_uri": "https://localhost:8080/",
     "height": 296
    },
    "id": "qchJ1DwDbjms",
    "outputId": "ee5749e2-912c-4513-fbfb-bd414b238ebf"
   },
   "outputs": [
    {
     "data": {
      "text/plain": [
       "Dataset({\n",
       "    features: ['text', 'label', 'stratified_split', '__index_level_0__'],\n",
       "    num_rows: 5912\n",
       "})"
      ]
     },
     "metadata": {},
     "output_type": "display_data"
    },
    {
     "data": {
      "text/plain": [
       "Dataset({\n",
       "    features: ['text', 'label', 'stratified_split', '__index_level_0__'],\n",
       "    num_rows: 2957\n",
       "})"
      ]
     },
     "metadata": {},
     "output_type": "display_data"
    },
    {
     "data": {
      "text/plain": [
       "{'text': \"Being a Seagoing Cowboy is really fun, but also can be a challenge. You travel around the world and you get to see really cool things. But its not all fun, you have to help and work.\\n\\nI loved being a Seagoing Cowboy, it changed my life. I was on the SS Charles W. Wooster, headed for Grecce, with 335 horsess and lots of hay and oats. I made nine trips. More trips than any Seagoing Cowboy. Being a Seagoing Cowboy is a great opportunity to help people in need, travel, learn, and to meet new people. You can go to Venice, Italy and take a gondola ride, or tour a excavated castle in Crete. Also, go to the Panama Canal or see the Acropolis in Greece. There are many things to do while being a Seagoing Cowboy.\\n\\nEveryone likes a little fun once in a while, but you don't always get to have fun. When being a Seagoing Cowboy, there are lots of dangerous things that can happen. You can slip off deck and drown. You can get badly injuired. Also, you can get sea sick. I cracked my ribs while sliding down a slippery ladder, and almost fell into the Atlantic Ocean. If you want to be a Seagoing Cowboy, you have to be cautious and carefull.\\n\\nAlso, there is work to do while on board and on land. Caring for the animals will keep you busy. You have to feed them and water them two or three times a day. Also, bales of hay and begs of oats will need to be pulled up from the lower loads of your ship. Another thing to do is clean animal stalls. Dirty stalls are not cool so clean them every day or two, to keep the animals clean and keep the ship from being stinky. You will always have something to do while being a Seagoing Cowboy.\\n\\nYou can also have fun after the animals are unloaded. You can play baseball and volleyball in empty holds. You can also do some table-tennis, fencing, boxing, reading, whittling, and other games to make time go by. You can make up games or play games that the people who need help play, then take them home and share them with your neighboorhood. There is lots of fun things to do on board and off board.\\n\\nBeing a Seagoing Cowboy can help you to be aware of other peoples needs, and help you to be grateful for things you have that other people want. After being a Seagoing Cowboy, you might change someones life, either while doing service of after service. After my service, my family and I hosted a number of international students and exchange visitors for many years. You can change your life, and someone else's after being a Seagoing Cowboy.\\n\\nBeing a Seagoing Cowboy is a fun opportuinity to help, travel, and learn. You can play games on board and help a town in need. You can travel around the world and see castles, go to famous cities, see old historical buildings, and many more. But its not all fun and games. There is cleaning to do and most importantly, helping. You should be a Seagoing Cowboy, it could change your life.                   [SEP]You have just read the article, 'A Cowboy Who Rode the Waves.' Luke's participation in the Seagoing Cowboys program allowed him to experience adventures and visit many unique places. Using information from the article, write an argument from Luke's point of view convincing others to participate in the Seagoing Cowboys program. Be sure to include: reasons to join the program; details from the article to support Luke's claims; an introduction, a body, and a conclusion to your essay.\",\n",
       " 'label': 4.0,\n",
       " 'stratified_split': 'train',\n",
       " '__index_level_0__': 0}"
      ]
     },
     "metadata": {},
     "output_type": "display_data"
    }
   ],
   "source": [
    "#! View the structure of the train set\n",
    "#! display() the first (0th) example\n",
    "\n",
    "display(asap_dd[\"train\"]) #features\n",
    "display(asap_dd[\"test\"]) #features\n",
    "display(asap_dd[\"train\"][0]) #text"
   ]
  },
  {
   "cell_type": "code",
   "execution_count": 14,
   "id": "_VbVv9gEbhG5",
   "metadata": {
    "colab": {
     "base_uri": "https://localhost:8080/",
     "height": 501
    },
    "id": "_VbVv9gEbhG5",
    "outputId": "42f8c783-c587-4957-a60e-d4ceed28f5ac"
   },
   "outputs": [
    {
     "data": {
      "text/plain": [
       "{'text': \"25 years ago there was a face discovered by nasa's viking 1 and viking 2 spacecraft. it was nearly 2 miles long. A person named Xavier Smith believes the face on planet mars was created by aliens. I told him the face is just a natural form land. The reason it is a natural land form is because there are lots of strange things that happen like that on different planets. Some scientist believe the face was an alien artifact. It could have just formed there. In my opinion i don't believe aliens are real. I believe that the humans are the only race. If aliens were real they would have probly tooken over planet earth right now. There are a lot of people who think aliens are real. People think they fly around in invisible ufo's and have really advanced technology. What the picture actually shows is the martain equivalent of a butte or mesa-landforms common around the american west. That is my discussion on the face on planet mars.[SEP]You have read the article 'Unmasking the Face on Mars.' Imagine you are a scientist at NASA discussing the Face with someone who thinks it was created by aliens. Using information in the article, write an argumentative essay to convince someone that the Face is just a natural landform.Be sure to include: claims to support your argument that the Face is a natural landform; evidence from the article to support your claims; an introduction, a body, and a conclusion to your argumentative essay.\",\n",
       " 'label': 1.0,\n",
       " 'stratified_split': 'train',\n",
       " '__index_level_0__': 11823}"
      ]
     },
     "metadata": {},
     "output_type": "display_data"
    }
   ],
   "source": [
    "#! Find the lowest scored essay in the training set.\n",
    "\n",
    "# Loop\n",
    "min_writing = 1 #change this number to see various scores\n",
    "for sample in asap_dd[\"train\"]:\n",
    "  if sample[\"label\"] == min_writing:\n",
    "    min_writing = sample[\"label\"]\n",
    "    min_sample = sample\n",
    "display(min_sample)\n"
   ]
  },
  {
   "cell_type": "code",
   "execution_count": 15,
   "id": "z1qB-uJZIaSE",
   "metadata": {
    "colab": {
     "base_uri": "https://localhost:8080/"
    },
    "id": "z1qB-uJZIaSE",
    "outputId": "5f587eed-f2f6-435c-c5ee-9b9255d2c9d0"
   },
   "outputs": [
    {
     "data": {
      "text/plain": [
       "Value(dtype='float64', id=None)"
      ]
     },
     "execution_count": 15,
     "metadata": {},
     "output_type": "execute_result"
    }
   ],
   "source": [
    "# Training regression-type models requires a floating point response variable\n",
    "# The Type is \"Value\", which comes from the datasets library\n",
    "asap_dd[\"train\"].features['label']"
   ]
  },
  {
   "cell_type": "markdown",
   "id": "d558ecf4-e35b-4afa-a1aa-ca16e86ab432",
   "metadata": {
    "id": "d558ecf4-e35b-4afa-a1aa-ca16e86ab432"
   },
   "source": [
    "### Pre-process inputs (tokenization)\n",
    "\n",
    "This is for train, dev, and test sets as set up.\n",
    "\n",
    "`transformers` will handle tokenization, but it's worth looking at what it does.  Huggingface toenization course [here](https://huggingface.co/course/chapter2/4?fw=pt).\n",
    "\n",
    "Different models require different types of tokenization. You need to choose a model before you tokenize. \n",
    "\n",
    "This will use [ModernBERT-base](https://huggingface.co/answerdotai/ModernBERT-base) from huggingface. "
   ]
  },
  {
   "cell_type": "code",
   "execution_count": 16,
   "id": "3d6a7940-ae31-4efe-9398-93da6b2b0aa7",
   "metadata": {
    "colab": {
     "base_uri": "https://localhost:8080/",
     "height": 296,
     "referenced_widgets": [
      "5f67a6588886442d863083d6514a032a",
      "be85cb15d64d4dcfb3cd8de679a14dbe",
      "09d8fdd5e466478fa73dc9e003f98550",
      "a2f3828a90694d2e95d3db4a10cb2cf6",
      "2b29ce0cfd7e4242bbf33a9a2b4be684",
      "319ad459df124e43a01ab63dc387e615",
      "978f915fb9e943a3bfb266b8f088cdc7",
      "498c8df98c2148d08c089c2cde32fcdb",
      "b23402fc02b148e8b8815df444234215",
      "b57082ca176543bca1a2fc5a954b6f38",
      "d55471ca16d64f2a91a17c0667eb93b4",
      "f36cad5339c040ae9f2fd326cd3e23d0",
      "8b5b45937a5a4d23872d00b00732af26",
      "9820738317a5454485408aeb612961bf",
      "70339fc918314723873fc78621372670",
      "9c91648a00304b86b5312ec2e4315e5f",
      "f87d090c835e48f9a78c944cc2ae2025",
      "5b9f5d9e63224c59ba2d9f9a670a7463",
      "8d616757d0db4e219eedbb4cc2fdaca4",
      "31703e44a3f641399fb27af3ba80e318",
      "19663b6ba49a45f1a992c7402ce7a367",
      "767efb57ce0141b29cd2a8941dd12491",
      "fab10ab0f3d748ea8727fb0834921982",
      "fa34fc002ee24dab94e6049c35ce3fc5",
      "bb0afc0aee90458ba140afb16d216696",
      "38b85482a4034cc0b0f734f5776e8d62",
      "878acd4945544fd5afdf3880b809c25d",
      "b0b8973eecff4a4fa455a7f8a001828b",
      "982eb653aebf4ac09df516507ec7a57e",
      "3af0dc22f0bd4e01a5c3ea2df2b9a98a",
      "e14af5c765214ad7984606f99de84ec2",
      "360793e5846a4920b5a974c0b5c6905a",
      "2915fe65e51f4a8aa71180b4002b2fc5",
      "4bee6d794c2748899405e2ca89cb3604",
      "88ef025c19d84d2fab27e94f9a2a9223",
      "70f1983d4d68460baeef3d6b68f7c669",
      "e224d3079c4340fb94a9d2992f46f070",
      "be3082e613d943b98535509a0391826f",
      "d9e2df8a39424f19b34a1a81153e8a14",
      "24fbe151f1394f8794e264c182a42cab",
      "c5a76d20ca944294bcea793f6e2568ed",
      "1d684b49f9f54304abc032c07cfa458d",
      "d304516a7bf24370a8caed134b802aa4",
      "1742cd149564492b9991991a3d5340df"
     ]
    },
    "id": "3d6a7940-ae31-4efe-9398-93da6b2b0aa7",
    "outputId": "d4f623b1-12c8-46ee-f7a9-3bbd038da255"
   },
   "outputs": [
    {
     "data": {
      "text/plain": [
       "'answerdotai/ModernBERT-base'"
      ]
     },
     "execution_count": 16,
     "metadata": {},
     "output_type": "execute_result"
    }
   ],
   "source": [
    "# Instantiate tokenizer by downloading tokenizer config files from HF Hub\n",
    "#tokenizer = AutoTokenizer.from_pretrained('roberta-large') #roberta works\n",
    "tokenizer = AutoTokenizer.from_pretrained(model_id) #deberta requires transformers[sentencepiece] or \n",
    "#tokenizer = AutoTokenizer.from_pretrained(\"microsoft/deberta-v3-large\", use_fast=False) \n",
    "#transformers now uses fast tokenizers by default, but the deberta tokenizer is a slow tokenizer\n",
    "tokenizer.name_or_path #what tokenizer are we using?"
   ]
  },
  {
   "cell_type": "code",
   "execution_count": 17,
   "id": "68d994af-196d-4dba-8c1b-95a75d8fa14b",
   "metadata": {
    "id": "68d994af-196d-4dba-8c1b-95a75d8fa14b"
   },
   "outputs": [],
   "source": [
    "def tokenize_inputs(example):\n",
    "    # We will not truncate\n",
    "    return tokenizer(example['text'])"
   ]
  },
  {
   "cell_type": "code",
   "execution_count": 18,
   "id": "39bc59e5-52b9-4449-8cda-bd94e88e980d",
   "metadata": {
    "colab": {
     "base_uri": "https://localhost:8080/",
     "height": 81,
     "referenced_widgets": [
      "5c74e62178f5444694164aa6f404f65b",
      "26c487e3196049a0987cf9261af118c6",
      "4e2ee8b04a7f439db11a5f226c7d8357",
      "20b0b25c50804acd9a930d0dc3ad360c",
      "96ad0159570144f0862bc3eff742e056",
      "4f09c3219588408ba1b9322371615c5c",
      "52c53fb32c5d414e87bcf30eb8b205c1",
      "e1d3d018e086431c956058df5569557b",
      "64f674c22ddb4a7da80b8b1c088cae73",
      "88b8bbc04077486ab10cd533ff2cef3e",
      "983ff244ad1643aebef0e66a79b232f2",
      "32142b88178742a491a4b2f0f16e9dbb",
      "74a58ef392c1400cb03b227999e49edd",
      "7bf20fbf23d14e2eba89ac126f50bb5a",
      "1f6b5f1c4ffc4a95ac7d1f0a4cdf81cb",
      "fb42771a92234e769f41eba545e36dea",
      "85703dbc8f0b450995556ec44306ca47",
      "9cc3bd5aa32043a18b9a11acf3a3a264",
      "3f433984911c4bc197f0125a40fa9323",
      "0abe7b2a98fe4ccc953b603fbea5abf5",
      "dc8a0a9ff1814c94a32690b524649add",
      "100d0a1b8b3e4759aa1d02b4700f164a"
     ]
    },
    "id": "39bc59e5-52b9-4449-8cda-bd94e88e980d",
    "outputId": "f2e0ffab-6d76-41e1-d8f4-d2ed54bb01d3"
   },
   "outputs": [
    {
     "data": {
      "application/vnd.jupyter.widget-view+json": {
       "model_id": "747f535dc65f48ef9a07405d2510ee60",
       "version_major": 2,
       "version_minor": 0
      },
      "text/plain": [
       "Map:   0%|          | 0/5912 [00:00<?, ? examples/s]"
      ]
     },
     "metadata": {},
     "output_type": "display_data"
    },
    {
     "data": {
      "application/vnd.jupyter.widget-view+json": {
       "model_id": "3b43e5fb5bfd4d3cb5c5ad113c04778f",
       "version_major": 2,
       "version_minor": 0
      },
      "text/plain": [
       "Map:   0%|          | 0/2957 [00:00<?, ? examples/s]"
      ]
     },
     "metadata": {},
     "output_type": "display_data"
    }
   ],
   "source": [
    "# Do the tokenizing using DataDict.map()\n",
    "asap_dd_tokenized = asap_dd.map(tokenize_inputs, batched=True)"
   ]
  },
  {
   "cell_type": "code",
   "execution_count": 19,
   "id": "2061e38a-4e26-4294-8a3f-99f3a51de49a",
   "metadata": {
    "colab": {
     "base_uri": "https://localhost:8080/"
    },
    "id": "2061e38a-4e26-4294-8a3f-99f3a51de49a",
    "outputId": "32b20e0a-f997-4207-b60e-a40dc62828d7"
   },
   "outputs": [
    {
     "data": {
      "text/plain": [
       "DatasetDict({\n",
       "    train: Dataset({\n",
       "        features: ['text', 'label', 'stratified_split', '__index_level_0__', 'input_ids', 'attention_mask'],\n",
       "        num_rows: 5912\n",
       "    })\n",
       "    test: Dataset({\n",
       "        features: ['text', 'label', 'stratified_split', '__index_level_0__', 'input_ids', 'attention_mask'],\n",
       "        num_rows: 2957\n",
       "    })\n",
       "})"
      ]
     },
     "execution_count": 19,
     "metadata": {},
     "output_type": "execute_result"
    }
   ],
   "source": [
    "#what's in the data\n",
    "\n",
    "asap_dd_tokenized"
   ]
  },
  {
   "cell_type": "markdown",
   "id": "ucxc1dercHfY",
   "metadata": {
    "id": "ucxc1dercHfY"
   },
   "source": [
    "After tokenization, text samples are transformed as follows:\n",
    "\n",
    "The **text** field is replaced with two new fields:\n",
    "\n",
    "*   **input_ids**\n",
    "\n",
    "The `input_ids` field contains the tokenized input sequences represented as token IDs.\n",
    "\n",
    "*   **attention_mask**\n",
    "\n",
    "The `attention_mask` field contains attention masks, which indicate which tokens should be attended to and which should be ignored during model training. In this case, the attention mask is all 1s, indicating that every token is attended to."
   ]
  },
  {
   "cell_type": "code",
   "execution_count": 20,
   "id": "Pf9DBic9LFwI",
   "metadata": {
    "colab": {
     "base_uri": "https://localhost:8080/"
    },
    "id": "Pf9DBic9LFwI",
    "outputId": "85bfa78a-d391-4ea0-de4d-5224b146b43f"
   },
   "outputs": [],
   "source": [
    "#! Grab the 0th item in the train portion of our tokenized dataset and iterate over its .items()\n",
    "#! print() key and value from inside this loop to see what the tokenized inputs look like.\n",
    "\n",
    "# for key, value in asap_dd_tokenized[\"train\"][0].items():\n",
    "#   print(key, value)"
   ]
  },
  {
   "cell_type": "code",
   "execution_count": 21,
   "id": "66e2d4d1-8774-4629-8816-77261abc5124",
   "metadata": {},
   "outputs": [
    {
     "name": "stdout",
     "output_type": "stream",
     "text": [
      "1556\n"
     ]
    }
   ],
   "source": [
    "#what is the max length of the input ids (i.e., did they truncate)\n",
    "\n",
    "max_length = max([len(n['input_ids']) for n in asap_dd_tokenized['train']] +\n",
    "                 [len(n['input_ids']) for n in asap_dd_tokenized['test']])\n",
    "\n",
    "print(max_length) # the max length is 1556, but that shouldn't be a problem with modernbert"
   ]
  },
  {
   "cell_type": "code",
   "execution_count": 22,
   "id": "12471c13-237e-41a3-951f-cf812f5eb8ca",
   "metadata": {},
   "outputs": [
    {
     "data": {
      "text/plain": [
       "<Axes: >"
      ]
     },
     "execution_count": 22,
     "metadata": {},
     "output_type": "execute_result"
    },
    {
     "data": {
      "image/png": "[encoded data removed]",
      "text/plain": [
       "<Figure size 640x480 with 1 Axes>"
      ]
     },
     "metadata": {},
     "output_type": "display_data"
    }
   ],
   "source": [
    "pd.Series([len(n['input_ids']) for n in asap_dd_tokenized['train']] +\n",
    "          [len(n['input_ids']) for n in asap_dd_tokenized['test']]).hist()"
   ]
  },
  {
   "cell_type": "markdown",
   "id": "08845526-78fb-4096-bb4b-1ca13c7eda12",
   "metadata": {
    "id": "08845526-78fb-4096-bb4b-1ca13c7eda12"
   },
   "source": [
    "### Data Collator\n",
    "A data collator feeds the data to the language model. There are some interesting optimizations that can be made [here](https://huggingface.co/course/chapter3/2?fw=pt).\n",
    "\n",
    "\n"
   ]
  },
  {
   "cell_type": "code",
   "execution_count": 23,
   "id": "df86dd09-500c-4a14-80c4-32d9a432c0dd",
   "metadata": {
    "id": "df86dd09-500c-4a14-80c4-32d9a432c0dd"
   },
   "outputs": [],
   "source": [
    "# Instantiate data collator\n",
    "data_collator = DataCollatorWithPadding(tokenizer=tokenizer)\n",
    "\n",
    "#This data collator is used to dynamically pad input sequences to the maximum length within each batch during training\n",
    "#ensures that all sequences within a batch have the same length by adding padding tokens to the shorter sequences\n",
    "#DataCollatorWithPadding handles variable-length input sequences and avoids the need for manual padding or truncation\n"
   ]
  },
  {
   "attachments": {
    "164c8bc8-b301-4b93-b7f8-8a0ed3b02b43.png": {
     "image/png": "[encoded data removed]"
    }
   },
   "cell_type": "markdown",
   "id": "3da664a0-b63c-450a-ae74-bab101d55ea1",
   "metadata": {
    "id": "3da664a0-b63c-450a-ae74-bab101d55ea1"
   },
   "source": [
    "## USE HYPERPARAMETER TUNING\n",
    "\n",
    "**it is only based on a training and test set**\n",
    "\n",
    "Hyperparameter tuning was done in \n",
    "\n",
    "active-projects/asap_scoring/asap_llm_hyper_search_final_modern_bert.ipynb\n",
    "\n",
    "The results are below.\n",
    "\n",
    "![image.png](attachment:164c8bc8-b301-4b93-b7f8-8a0ed3b02b43.png)\n",
    "\n",
    "\n",
    "## Set up Training\n",
    "\n"
   ]
  },
  {
   "cell_type": "markdown",
   "id": "be6051da-9e43-48f2-baed-65e34b6488fb",
   "metadata": {
    "id": "be6051da-9e43-48f2-baed-65e34b6488fb"
   },
   "source": [
    "### Define model and task\n",
    "\n",
    "\n",
    "### `AutoModelForSequenceClassification.from_pretrained()`\n",
    "\n",
    "1.   Downloads the model you specify from the HuggingFace Hub. Downloading a model means downloading the pretrained model weights, as well as some configuration files. The model architecture is already described inside the `transformers` library.\n",
    "2.   Discards the language modeling head of the model.\n",
    "3.   Creates a brand new sequence classification head with randomly initialized weights -- you will see some warnings about this to remind you that you need to train the model!\n",
    "\n",
    "### `model_init`\n",
    "We use a `model_init()` function here instead of loading the model directly. This way, we will get a fresh distilbert everytime we rerun later code cells. This allows us to start training from the Huggingface checkpoint on every training run. In other words, we guarantee that training will always start from the Hugginface weights. This prevents us from accidentally resuming training when we don't mean to!\n"
   ]
  },
  {
   "cell_type": "code",
   "execution_count": 24,
   "id": "KoYpWsK9SQeY",
   "metadata": {
    "id": "KoYpWsK9SQeY"
   },
   "outputs": [],
   "source": [
    "# Define a model init function, which will help us start training from scratch\n",
    "def model_init():\n",
    "  return AutoModelForSequenceClassification.from_pretrained(\n",
    "      model_id,\n",
    "      num_labels=1, # Regression is just classification with a single, continous label. So intuitive! \n",
    "      )"
   ]
  },
  {
   "cell_type": "markdown",
   "id": "zNpYoiDFMB-P",
   "metadata": {
    "id": "zNpYoiDFMB-P"
   },
   "source": [
    "### Define Metrics\n",
    "\n",
    "Let's consider what metrics might be useful for training this model. Lots of metrics are available to us through [HF Datasets Metrics repo](https://huggingface.co/metrics)."
   ]
  },
  {
   "cell_type": "code",
   "execution_count": 25,
   "id": "zZYMo9vnLhWJ",
   "metadata": {
    "colab": {
     "base_uri": "https://localhost:8080/",
     "height": 81,
     "referenced_widgets": [
      "6f2cd1b86a9445629df92300fadb89e3",
      "abc2e80a54c34bd68012c410831326ac",
      "68aca5bd20f840e083ea3da8c2f3111e",
      "4abf8ae5b38d4144aa163d75af603da3",
      "e6685d9beb3e464c881ca33fffecabde",
      "2885d47862104b5c8dc8f2c5c570ca8e",
      "b5d73fb723ac402ea3b3f7b46db7ba4e",
      "0246e356a15c471294b882da43561963",
      "70638384dc4a4a4daa3326a7c9b50783",
      "6c06d435d35d4c519b8edcba71d9e1a6",
      "156cbd1f971a4370af9828b35c9aff8e",
      "29b0915a421442f0bb68aecb75c78aa7",
      "dbf1b1a0ebd142148a19be69fc3b774d",
      "51f57e6cb2574390b2a514c15748c06c",
      "bc0c4d03073e45f08a278ebd06dc8426",
      "1dfc2703ec364bcd93d2688cf155c10a",
      "5f972b15c8a14a84889a3c2ba1d61a9c",
      "aceb959d1a72470a948d77fe40ce208c",
      "8b0640ce9b7745f1a8c675139b967f44",
      "a446d35fcc9b4a3d91c9a5e9bbf017da",
      "242d141edb6042c6bff3fce7adf37920",
      "6780def75c734ffeac2c2f01c2f49b25"
     ]
    },
    "id": "zZYMo9vnLhWJ",
    "outputId": "1e5c5ad5-301c-403e-c7af-4cf578519053"
   },
   "outputs": [],
   "source": [
    "from sklearn.metrics import root_mean_squared_error, mean_absolute_error\n",
    "# # Load some useful performance metrics using evaluate library\n",
    "# # These metrics are complementary. They tell us different things about model performance.\n",
    "# metrics = evaluate.combine(\n",
    "#     #combine multiple evaluation metrics into a single evaluation object \n",
    "#     {\n",
    "#         # Root Mean Squared Error (RMSE); lower is better; more sensitive to few big errors\n",
    "#         \"RMSE\" : evaluate.load(\"mse\", squared=False),\n",
    "#         # Mean Absolute Error; lower is better; less sensitive to few big errors\n",
    "#         \"MAE\": evaluate.load('mae')\n",
    "#     }\n",
    "# )\n",
    "\n",
    "# # Define compute_metrics()\n",
    "# def compute_metrics(eval_pred):\n",
    "#     logits, labels = eval_pred\n",
    "#     # Alternative option is to use sklearn metrics here\n",
    "#     return metrics.compute(predictions=logits, references=labels) #logits refer to the raw, unnormalized outputs of the final layer of model\n",
    "#                                                                   #labels are the true values being predicted.\n",
    "\n",
    "def compute_metrics(eval_pred):\n",
    "    logits, labels = eval_pred\n",
    "    return {\"RMSE\": root_mean_squared_error(logits, labels), \n",
    "            \"MAE\": mean_absolute_error(logits, labels)}"
   ]
  },
  {
   "cell_type": "code",
   "execution_count": 26,
   "id": "OAK2yn50Czpj",
   "metadata": {
    "colab": {
     "base_uri": "https://localhost:8080/"
    },
    "id": "OAK2yn50Czpj",
    "outputId": "b4c06a7c-8c98-4c78-e76b-8176cb70ec4d"
   },
   "outputs": [
    {
     "ename": "NameError",
     "evalue": "name 'metrics' is not defined",
     "output_type": "error",
     "traceback": [
      "\u001b[0;31m---------------------------------------------------------------------------\u001b[0m",
      "\u001b[0;31mNameError\u001b[0m                                 Traceback (most recent call last)",
      "Cell \u001b[0;32mIn[26], line 1\u001b[0m\n\u001b[0;32m----> 1\u001b[0m \u001b[38;5;28;01mfor\u001b[39;00m metric \u001b[38;5;129;01min\u001b[39;00m \u001b[43mmetrics\u001b[49m\u001b[38;5;241m.\u001b[39mevaluation_modules:\n\u001b[1;32m      2\u001b[0m   \u001b[38;5;28mprint\u001b[39m(\u001b[38;5;124mf\u001b[39m\u001b[38;5;124m\"\u001b[39m\u001b[38;5;132;01m{\u001b[39;00mmetric\u001b[38;5;241m.\u001b[39mname\u001b[38;5;132;01m:\u001b[39;00m\u001b[38;5;124m_^80\u001b[39m\u001b[38;5;132;01m}\u001b[39;00m\u001b[38;5;124m\"\u001b[39m) \u001b[38;5;66;03m#spacer\u001b[39;00m\n\u001b[1;32m      3\u001b[0m   \u001b[38;5;28mprint\u001b[39m(metric\u001b[38;5;241m.\u001b[39mdescription) \u001b[38;5;66;03m#description of metric if curious\u001b[39;00m\n",
      "\u001b[0;31mNameError\u001b[0m: name 'metrics' is not defined"
     ]
    }
   ],
   "source": [
    "# for metric in metrics.evaluation_modules:\n",
    "#   print(f\"{metric.name:_^80}\") #spacer\n",
    "#   print(metric.description) #description of metric if curious"
   ]
  },
  {
   "cell_type": "code",
   "execution_count": 27,
   "id": "e0acdb15-f55c-4274-b1b7-33af4899ffb4",
   "metadata": {},
   "outputs": [
    {
     "data": {
      "text/plain": [
       "{'RMSE': 2.1625602111078126, 'MAE': 2.0333333333333337}"
      ]
     },
     "execution_count": 27,
     "metadata": {},
     "output_type": "execute_result"
    }
   ],
   "source": [
    "compute_metrics(([3.3, 4.3, 2.3],[5.4, 3.2, 5.2]))"
   ]
  },
  {
   "cell_type": "markdown",
   "id": "Ct5YQhNYNspN",
   "metadata": {
    "id": "Ct5YQhNYNspN"
   },
   "source": [
    "### Model Training\n"
   ]
  },
  {
   "cell_type": "code",
   "execution_count": 28,
   "id": "e73f65bd-dc26-4639-a7fa-182ec9283771",
   "metadata": {},
   "outputs": [
    {
     "name": "stdout",
     "output_type": "stream",
     "text": [
      "/home/jovyan/active-projects/asap_scoring\n"
     ]
    }
   ],
   "source": [
    "#will need to know where to store output\n",
    "import os\n",
    "\n",
    "current_directory = os.getcwd()\n",
    "print(current_directory)\n",
    "output_dir = \"/home/jovyan/active-projects/asap_scoring/modernbert_w_prompt\""
   ]
  },
  {
   "cell_type": "code",
   "execution_count": 29,
   "id": "1ymF80XDNrw8",
   "metadata": {
    "colab": {
     "base_uri": "https://localhost:8080/",
     "height": 162,
     "referenced_widgets": [
      "24eeeb0767504963a6d3b7a3b23a0cf3",
      "3573fb9fc6b341dc927df3f9a2803f94",
      "3f3c33163a80476b8ad65a4777525f44",
      "f656f0d2052e49b5a23821d8566b9096",
      "8e56fae3062a4954bdc53fe075d37c09",
      "49927380bd704ba4822e7fd66ee8e49c",
      "e3d690ac577d4fcfa2f1d1edb554166c",
      "9fdc10bae08b4be0ba4728cdd2a6522b",
      "677036f676224bffbbaa905207f88c4a",
      "97f4da37bb0c4950b431d22d527cd9cb",
      "86172d008b0d477ba153fca3c1efc9ee"
     ]
    },
    "id": "1ymF80XDNrw8",
    "outputId": "abade51e-eaae-420c-c19e-f6b2f6090192"
   },
   "outputs": [],
   "source": [
    "training_args = TrainingArguments(\n",
    "    # directory to save model checkpoints\n",
    "    output_dir=output_dir,\n",
    "    # how often to log. 'epoch' means that logging will happen at the end of every epoch\n",
    "    logging_strategy='epoch',\n",
    "    # how often to evaluate performance\n",
    "    eval_strategy='epoch',\n",
    "    # how often to save a model checkpoint\n",
    "    save_strategy='no',\n",
    "    # If an earlier checkpoint was better than the last one, load that checkpoint from disk\n",
    "    # We cannot do this, because we don't have a development set\n",
    "    load_best_model_at_end=False,\n",
    "    # Not used; how to choose which model was best\n",
    "    metric_for_best_model=None,\n",
    "    # Not used; but lower RMSE is better\n",
    "    greater_is_better=False,\n",
    "    per_device_train_batch_size= 12, # 8 or 16 are typical. Switch to 2 to avoid OutOfMemoryError!\n",
    "    per_device_eval_batch_size= 12, # 8 or 16 are typical. Switch to 2 to avoid OutOfMemoryError!\n",
    "    #! Try 1e-5, 5e-5, or 1e-4.\n",
    "    learning_rate= 0.000005,\n",
    "    #! Try 2, 3, or 4 epochs\n",
    "    num_train_epochs=2,# Add gradient accumulation steps\n",
    "    #add gradient accumulation which helps to stabilize the training by effectively increasing the batch size\n",
    "    # Add warmup steps, which gradually increase the learning rate to  stabilize training during the initial steps.\n",
    "    warmup_steps=500,\n",
    "    report_to= \"none\", #this should stop wandb from firing, which saves a lot of heartache\n",
    ")"
   ]
  },
  {
   "cell_type": "code",
   "execution_count": 30,
   "id": "1068e6de-de59-46b6-9e44-a3e4b7570cb2",
   "metadata": {},
   "outputs": [
    {
     "name": "stderr",
     "output_type": "stream",
     "text": [
      "Some weights of ModernBertForSequenceClassification were not initialized from the model checkpoint at answerdotai/ModernBERT-base and are newly initialized: ['classifier.bias', 'classifier.weight']\n",
      "You should probably TRAIN this model on a down-stream task to be able to use it for predictions and inference.\n"
     ]
    }
   ],
   "source": [
    "\n",
    "# We defined all these components in the code above and saved them as variables\n",
    "# Add those variables as arguments to the Trainer call to make our trainer :)\n",
    "trainer = Trainer(\n",
    "    # notice that this is \"model_init\" and NOT \"model_init()\"\n",
    "    # if we add the (), it will evaluate the function and provide the func output to the trainer\n",
    "    # but we want to give the function itself to the trainer\n",
    "    # functions are just objects, and we can pass them around by name\n",
    "    model_init=model_init,\n",
    "    args=training_args,\n",
    "    data_collator=data_collator,\n",
    "    train_dataset=asap_dd_tokenized[\"train\"], #! the training dataset\n",
    "    eval_dataset=asap_dd_tokenized[\"test\"], #! the testing set \n",
    "    compute_metrics=compute_metrics,\n",
    ")\n",
    "\n"
   ]
  },
  {
   "cell_type": "markdown",
   "id": "oXe8fUReQyUu",
   "metadata": {
    "id": "oXe8fUReQyUu"
   },
   "source": [
    "## Finetune the model\n",
    "finetune the model!\n"
   ]
  },
  {
   "cell_type": "code",
   "execution_count": null,
   "id": "d32c31b9-d1fe-4ac2-b262-54bb3e967f34",
   "metadata": {},
   "outputs": [],
   "source": []
  },
  {
   "cell_type": "code",
   "execution_count": 31,
   "id": "1-v71nXaQUlw",
   "metadata": {
    "colab": {
     "base_uri": "https://localhost:8080/",
     "height": 282
    },
    "id": "1-v71nXaQUlw",
    "outputId": "8291a2ac-bc80-4c64-bc9c-ed10c0717cba"
   },
   "outputs": [
    {
     "name": "stderr",
     "output_type": "stream",
     "text": [
      "Some weights of ModernBertForSequenceClassification were not initialized from the model checkpoint at answerdotai/ModernBERT-base and are newly initialized: ['classifier.bias', 'classifier.weight']\n",
      "You should probably TRAIN this model on a down-stream task to be able to use it for predictions and inference.\n",
      "/home/jovyan/conda_envs/wes-env2/lib/python3.11/site-packages/torch/_inductor/compile_fx.py:194: UserWarning: TensorFloat32 tensor cores for float32 matrix multiplication available but not enabled. Consider setting `torch.set_float32_matmul_precision('high')` for better performance.\n",
      "  warnings.warn(\n"
     ]
    },
    {
     "data": {
      "text/html": [
       "\n",
       "    <div>\n",
       "      \n",
       "      <progress value='986' max='986' style='width:300px; height:20px; vertical-align: middle;'></progress>\n",
       "      [986/986 13:07, Epoch 2/2]\n",
       "    </div>\n",
       "    <table border=\"1\" class=\"dataframe\">\n",
       "  <thead>\n",
       " <tr style=\"text-align: left;\">\n",
       "      <th>Epoch</th>\n",
       "      <th>Training Loss</th>\n",
       "      <th>Validation Loss</th>\n",
       "      <th>Rmse</th>\n",
       "      <th>Mae</th>\n",
       "    </tr>\n",
       "  </thead>\n",
       "  <tbody>\n",
       "    <tr>\n",
       "      <td>1</td>\n",
       "      <td>1.221000</td>\n",
       "      <td>0.437178</td>\n",
       "      <td>0.661195</td>\n",
       "      <td>0.535417</td>\n",
       "    </tr>\n",
       "    <tr>\n",
       "      <td>2</td>\n",
       "      <td>0.324800</td>\n",
       "      <td>0.291271</td>\n",
       "      <td>0.539696</td>\n",
       "      <td>0.419780</td>\n",
       "    </tr>\n",
       "  </tbody>\n",
       "</table><p>"
      ],
      "text/plain": [
       "<IPython.core.display.HTML object>"
      ]
     },
     "metadata": {},
     "output_type": "display_data"
    }
   ],
   "source": [
    "\n",
    "\n",
    "trainer.train()\n",
    "\n",
    "trainer.save_model(\n",
    "    output_dir=\"/home/jovyan/active-projects/asap_scoring/hyper_parameter_subset_asap__modernbert_model\"\n",
    ")\n",
    "#this will save the model trained on the training data. We can use that later to test the training model on the test set."
   ]
  },
  {
   "attachments": {
    "e214ace9-1678-4555-98a9-746e782d8454.png": {
     "image/png": "[encoded data removed]"
    }
   },
   "cell_type": "markdown",
   "id": "c2e180d9-8254-4377-993c-ce717e610b1d",
   "metadata": {},
   "source": [
    "**Results from Hyperparameter model**\n",
    "\n",
    "\n",
    "![image.png](attachment:e214ace9-1678-4555-98a9-746e782d8454.png)\n"
   ]
  },
  {
   "cell_type": "code",
   "execution_count": 32,
   "id": "cbf19f09-845a-4c2b-bad1-0fde491bbd63",
   "metadata": {},
   "outputs": [
    {
     "data": {
      "text/html": [],
      "text/plain": [
       "<IPython.core.display.HTML object>"
      ]
     },
     "metadata": {},
     "output_type": "display_data"
    },
    {
     "name": "stderr",
     "output_type": "stream",
     "text": [
      "/home/jovyan/conda_envs/hugging_face/lib/python3.12/site-packages/sklearn/metrics/_regression.py:492: FutureWarning: 'squared' is deprecated in version 1.4 and will be removed in 1.6. To calculate the root mean squared error, use the function'root_mean_squared_error'.\n",
      "  warnings.warn(\n"
     ]
    },
    {
     "data": {
      "text/plain": [
       "{'eval_loss': 0.35515642166137695,\n",
       " 'eval_mse': 0.3551563722430037,\n",
       " 'eval_mae': 0.4620055237613016,\n",
       " 'eval_runtime': 106.137,\n",
       " 'eval_samples_per_second': 27.86,\n",
       " 'eval_steps_per_second': 13.935,\n",
       " 'epoch': 2.9868109570510653}"
      ]
     },
     "execution_count": 32,
     "metadata": {},
     "output_type": "execute_result"
    }
   ],
   "source": [
    "#evaluates on test set\n",
    "trainer.evaluate(\n",
    "    asap_dd_tokenized[\"test\"]\n",
    "    )"
   ]
  },
  {
   "cell_type": "markdown",
   "id": "a9dee642-1c7b-49c6-a9b8-f425173174a8",
   "metadata": {},
   "source": [
    "{'eval_loss': 0.35515642166137695,\n",
    " 'eval_mse': 0.3551563722430037,\n",
    " 'eval_mae': 0.4620055237613016,\n",
    " 'eval_runtime': 106.137,\n",
    " 'eval_samples_per_second': 27.86,\n",
    " 'eval_steps_per_second': 13.935,\n",
    " 'epoch': 2.9868109570510653}\n",
    "\n",
    "Here's what each of these components is telling us:\n",
    "\n",
    "epoch: the epoch number at which the evaluation is performed.\n",
    "\n",
    "eval_loss: the evaluation loss. The evaluation loss is a measure of how well the model performs on the evaluation dataset, with lower values indicating better performance.\n",
    "\n",
    "eval_mse: Why is this the same as eval_loss? Because mean-squared error was our loss function!\n",
    "\n",
    "eval_mae: Mean Absolute Error\n",
    "\n",
    "eval_runtime: the total runtime of the evaluation process in seconds.\n",
    "\n",
    "eval_samples_per_second: the number of samples processed per second.\n",
    "\n",
    "eval_steps_per_second: the number of batches processed per second."
   ]
  },
  {
   "cell_type": "code",
   "execution_count": 32,
   "id": "51cc608c-6473-4acb-969e-29b151d0cbe8",
   "metadata": {},
   "outputs": [
    {
     "data": {
      "text/html": [],
      "text/plain": [
       "<IPython.core.display.HTML object>"
      ]
     },
     "metadata": {},
     "output_type": "display_data"
    },
    {
     "name": "stdout",
     "output_type": "stream",
     "text": [
      "[[3.962363 ]\n",
      " [3.4833694]\n",
      " [2.7184772]\n",
      " ...\n",
      " [2.1548648]\n",
      " [2.2446814]\n",
      " [1.8055375]]\n",
      "{'test_loss': 0.29127147793769836, 'test_RMSE': 0.5396957397460938, 'test_MAE': 0.41978007555007935, 'test_runtime': 48.5587, 'test_samples_per_second': 60.895, 'test_steps_per_second': 5.087}\n"
     ]
    }
   ],
   "source": [
    "#Generate predictions using the trained model on a given datase\n",
    "\n",
    "pred = trainer.predict(\n",
    "    asap_dd_tokenized[\"test\"]\n",
    ")\n",
    "\n",
    "print(pred.predictions)#the predicitions\n",
    "print(pred.metrics)#the metrics"
   ]
  },
  {
   "cell_type": "markdown",
   "id": "1a9d267e-5d65-4166-a6f2-87ee273b124b",
   "metadata": {},
   "source": [
    "Results for metrics\n",
    "\n",
    "[1.9069762 4.2317324 2.5674455 ... 2.4829235 3.4350843 2.231167 ]\n",
    "{'test_loss': 0.3599712550640106, 'test_mse': 0.35997127510555743, 'test_mae': 0.46479457808408875, 'test_runtime': 197.4437, 'test_samples_per_second': 26.154, 'test_steps_per_second': 13.077}"
   ]
  },
  {
   "cell_type": "code",
   "execution_count": 33,
   "id": "ce92261d-621b-4ad0-9416-619438d9ccb8",
   "metadata": {},
   "outputs": [
    {
     "data": {
      "text/plain": [
       "array([3.962363 , 3.4833694, 2.7184772, ..., 2.1548648, 2.2446814,\n",
       "       1.8055375], shape=(2957,), dtype=float32)"
      ]
     },
     "execution_count": 33,
     "metadata": {},
     "output_type": "execute_result"
    }
   ],
   "source": [
    "# .reshape(-1) removes an empty dimension\n",
    "# We get a one-dimensional array (similar to a list)\n",
    "pred.predictions.reshape(-1)"
   ]
  },
  {
   "cell_type": "code",
   "execution_count": 34,
   "id": "b8a125aa-adc8-4729-83db-8ec41119130b",
   "metadata": {},
   "outputs": [
    {
     "data": {
      "text/html": [
       "<div>\n",
       "<style scoped>\n",
       "    .dataframe tbody tr th:only-of-type {\n",
       "        vertical-align: middle;\n",
       "    }\n",
       "\n",
       "    .dataframe tbody tr th {\n",
       "        vertical-align: top;\n",
       "    }\n",
       "\n",
       "    .dataframe thead th {\n",
       "        text-align: right;\n",
       "    }\n",
       "</style>\n",
       "<table border=\"1\" class=\"dataframe\">\n",
       "  <thead>\n",
       "    <tr style=\"text-align: right;\">\n",
       "      <th></th>\n",
       "      <th>predicted</th>\n",
       "      <th>true</th>\n",
       "      <th>text</th>\n",
       "    </tr>\n",
       "  </thead>\n",
       "  <tbody>\n",
       "    <tr>\n",
       "      <th>1084</th>\n",
       "      <td>2.416643</td>\n",
       "      <td>2.0</td>\n",
       "      <td>In the story \"Driverless Cars Are Coming,\" wit...</td>\n",
       "    </tr>\n",
       "    <tr>\n",
       "      <th>2407</th>\n",
       "      <td>2.256962</td>\n",
       "      <td>2.0</td>\n",
       "      <td>People will have differant oppions on this Fac...</td>\n",
       "    </tr>\n",
       "  </tbody>\n",
       "</table>\n",
       "</div>"
      ],
      "text/plain": [
       "      predicted  true                                               text\n",
       "1084   2.416643   2.0  In the story \"Driverless Cars Are Coming,\" wit...\n",
       "2407   2.256962   2.0  People will have differant oppions on this Fac..."
      ]
     },
     "metadata": {},
     "output_type": "display_data"
    }
   ],
   "source": [
    "# Create a dataframe for inspection\n",
    "preds_df = pd.DataFrame(\n",
    "    {\n",
    "        'predicted':pred.predictions.reshape(-1), # flatten array\n",
    "        'true':pred.label_ids,\n",
    "        'text':asap_dd['test']['text'] #! Add the text column of the test partition here\n",
    "    }\n",
    ")\n",
    "display(preds_df.sample(2)) # .sample(2) randomly selects 2 rows"
   ]
  },
  {
   "cell_type": "code",
   "execution_count": 35,
   "id": "83d3c45f-b29b-4b12-a949-6c906fea6161",
   "metadata": {},
   "outputs": [
    {
     "data": {
      "text/plain": [
       "(2957, 3)"
      ]
     },
     "execution_count": 35,
     "metadata": {},
     "output_type": "execute_result"
    }
   ],
   "source": [
    "preds_df.shape"
   ]
  },
  {
   "cell_type": "code",
   "execution_count": 36,
   "id": "ce8455ac-145a-4a27-95b3-0c8f9cc637ea",
   "metadata": {},
   "outputs": [],
   "source": [
    "#save dataframe for later use\n",
    "\n",
    "preds_df.to_csv('hyper_parameterized_test_results_asap_subset_in_modernbert.csv', index=False)"
   ]
  },
  {
   "cell_type": "code",
   "execution_count": 39,
   "id": "98824109-1685-48a6-931a-3c32e313da74",
   "metadata": {},
   "outputs": [
    {
     "name": "stdout",
     "output_type": "stream",
     "text": [
      "Pearson's R: 0.840, P-value = 0.000\n",
      "R-squared: 0.705, P-value= 0.000\n"
     ]
    },
    {
     "data": {
      "image/png": "[encoded data removed]",
      "text/plain": [
       "<Figure size 500x500 with 1 Axes>"
      ]
     },
     "metadata": {},
     "output_type": "display_data"
    }
   ],
   "source": [
    "# Run the simple linear regression\n",
    "results = stats.linregress(preds_df[\"true\"], preds_df[\"predicted\"])\n",
    "\n",
    "# Using an f-string to clearly display and round the relevant output\n",
    "print(f\"Pearson's R: {results.rvalue:.3f}, P-value = {results.pvalue:.3f}\")\n",
    "print(f\"R-squared: {results.rvalue**2:.3f}, P-value= {results.pvalue:.3f}\")\n",
    "\n",
    "# Plot the data with a regression line\n",
    "sns.lmplot(x='true', y='predicted', data=preds_df);"
   ]
  },
  {
   "cell_type": "code",
   "execution_count": 39,
   "id": "d329f109-5b3e-47fa-ae9e-f41e225bc3e0",
   "metadata": {},
   "outputs": [
    {
     "data": {
      "text/plain": [
       "0.6723999999999999"
      ]
     },
     "execution_count": 39,
     "metadata": {},
     "output_type": "execute_result"
    }
   ],
   "source": []
  },
  {
   "cell_type": "markdown",
   "id": "29eb2126-7011-4f00-b653-f4b24ff112b8",
   "metadata": {},
   "source": [
    "### Calling in saved model\n",
    "\n",
    "This is the easiest solution if you return to this notebook long after it has been run.\n",
    "\n",
    "It will allow you to retrieve saved model as needed without retraining the model using all the steps above\n",
    "\n",
    "\n"
   ]
  },
  {
   "cell_type": "code",
   "execution_count": 5,
   "id": "c1a1388a-1f11-4b4b-96d0-ef2e6db3f178",
   "metadata": {},
   "outputs": [],
   "source": [
    "#call in the saved model\n",
    "\n",
    "#The chunk above saved three items\n",
    "# 1. Config.json: Configuration settings for transformer model like the model architecture\n",
    "# 2. model.safetensors: weights and parameters of the trained transformer model\n",
    "# 3. training_args.bin: the arguments and settings that were used during the training process of the transformer model\n",
    "# learning rate, batch size, etc...\n",
    "\n",
    "# call in a new variable called trainer_saved and use it below for trainer_saved.evaluate and trainer_saved.predict\n",
    "\n",
    "#set path\n",
    "PATH = \"/home/jovyan/active-projects/asap_scoring/hyper_parameter_model\"\n",
    "\n",
    "num_labels = 1 #for regression analysis. This would change with classification\n",
    "model = AutoModelForSequenceClassification.from_pretrained(PATH, num_labels=num_labels)"
   ]
  },
  {
   "cell_type": "code",
   "execution_count": 18,
   "id": "a7bbd10f-1adb-4586-9db5-32eb5d2fcb21",
   "metadata": {},
   "outputs": [
    {
     "name": "stdout",
     "output_type": "stream",
     "text": [
      "DebertaV2ForSequenceClassification(\n",
      "  (deberta): DebertaV2Model(\n",
      "    (embeddings): DebertaV2Embeddings(\n",
      "      (word_embeddings): Embedding(128100, 1024, padding_idx=0)\n",
      "      (LayerNorm): LayerNorm((1024,), eps=1e-07, elementwise_affine=True)\n",
      "      (dropout): StableDropout()\n",
      "    )\n",
      "    (encoder): DebertaV2Encoder(\n",
      "      (layer): ModuleList(\n",
      "        (0-23): 24 x DebertaV2Layer(\n",
      "          (attention): DebertaV2Attention(\n",
      "            (self): DisentangledSelfAttention(\n",
      "              (query_proj): Linear(in_features=1024, out_features=1024, bias=True)\n",
      "              (key_proj): Linear(in_features=1024, out_features=1024, bias=True)\n",
      "              (value_proj): Linear(in_features=1024, out_features=1024, bias=True)\n",
      "              (pos_dropout): StableDropout()\n",
      "              (dropout): StableDropout()\n",
      "            )\n",
      "            (output): DebertaV2SelfOutput(\n",
      "              (dense): Linear(in_features=1024, out_features=1024, bias=True)\n",
      "              (LayerNorm): LayerNorm((1024,), eps=1e-07, elementwise_affine=True)\n",
      "              (dropout): StableDropout()\n",
      "            )\n",
      "          )\n",
      "          (intermediate): DebertaV2Intermediate(\n",
      "            (dense): Linear(in_features=1024, out_features=4096, bias=True)\n",
      "            (intermediate_act_fn): GELUActivation()\n",
      "          )\n",
      "          (output): DebertaV2Output(\n",
      "            (dense): Linear(in_features=4096, out_features=1024, bias=True)\n",
      "            (LayerNorm): LayerNorm((1024,), eps=1e-07, elementwise_affine=True)\n",
      "            (dropout): StableDropout()\n",
      "          )\n",
      "        )\n",
      "      )\n",
      "      (rel_embeddings): Embedding(512, 1024)\n",
      "      (LayerNorm): LayerNorm((1024,), eps=1e-07, elementwise_affine=True)\n",
      "    )\n",
      "  )\n",
      "  (pooler): ContextPooler(\n",
      "    (dense): Linear(in_features=1024, out_features=1024, bias=True)\n",
      "    (dropout): StableDropout()\n",
      "  )\n",
      "  (classifier): Linear(in_features=1024, out_features=1, bias=True)\n",
      "  (dropout): StableDropout()\n",
      ")\n"
     ]
    }
   ],
   "source": []
  },
  {
   "cell_type": "code",
   "execution_count": null,
   "id": "74327bbd-50e2-4359-ad9c-6ff3e49cee2c",
   "metadata": {},
   "outputs": [],
   "source": []
  },
  {
   "cell_type": "code",
   "execution_count": null,
   "id": "fdba9c5d-4e21-4d80-b696-45a04762cb57",
   "metadata": {},
   "outputs": [],
   "source": []
  },
  {
   "cell_type": "code",
   "execution_count": null,
   "id": "67aa55b7-7711-4a1e-86dd-7a0d78d62322",
   "metadata": {},
   "outputs": [],
   "source": []
  },
  {
   "cell_type": "code",
   "execution_count": null,
   "id": "1e8ea046-e9f9-4740-a9fa-be026b8b601d",
   "metadata": {},
   "outputs": [],
   "source": []
  }
 ],
 "metadata": {
  "accelerator": "GPU",
  "colab": {
   "gpuType": "T4",
   "provenance": []
  },
  "kernelspec": {
   "display_name": "Python [conda env:base] *",
   "language": "python",
   "name": "conda-base-py"
  },
  "language_info": {
   "codemirror_mode": {
    "name": "ipython",
    "version": 3
   },
   "file_extension": ".py",
   "mimetype": "text/x-python",
   "name": "python",
   "nbconvert_exporter": "python",
   "pygments_lexer": "ipython3",
   "version": "3.11.6"
  },
  "widgets": {
   "application/vnd.jupyter.widget-state+json": {
    "0246e356a15c471294b882da43561963": {
     "model_module": "@jupyter-widgets/base",
     "model_module_version": "1.2.0",
     "model_name": "LayoutModel",
     "state": {
      "_model_module": "@jupyter-widgets/base",
      "_model_module_version": "1.2.0",
      "_model_name": "LayoutModel",
      "_view_count": null,
      "_view_module": "@jupyter-widgets/base",
      "_view_module_version": "1.2.0",
      "_view_name": "LayoutView",
      "align_content": null,
      "align_items": null,
      "align_self": null,
      "border": null,
      "bottom": null,
      "display": null,
      "flex": null,
      "flex_flow": null,
      "grid_area": null,
      "grid_auto_columns": null,
      "grid_auto_flow": null,
      "grid_auto_rows": null,
      "grid_column": null,
      "grid_gap": null,
      "grid_row": null,
      "grid_template_areas": null,
      "grid_template_columns": null,
      "grid_template_rows": null,
      "height": null,
      "justify_content": null,
      "justify_items": null,
      "left": null,
      "margin": null,
      "max_height": null,
      "max_width": null,
      "min_height": null,
      "min_width": null,
      "object_fit": null,
      "object_position": null,
      "order": null,
      "overflow": null,
      "overflow_x": null,
      "overflow_y": null,
      "padding": null,
      "right": null,
      "top": null,
      "visibility": null,
      "width": null
     }
    },
    "09d8fdd5e466478fa73dc9e003f98550": {
     "model_module": "@jupyter-widgets/controls",
     "model_module_version": "1.5.0",
     "model_name": "FloatProgressModel",
     "state": {
      "_dom_classes": [],
      "_model_module": "@jupyter-widgets/controls",
      "_model_module_version": "1.5.0",
      "_model_name": "FloatProgressModel",
      "_view_count": null,
      "_view_module": "@jupyter-widgets/controls",
      "_view_module_version": "1.5.0",
      "_view_name": "ProgressView",
      "bar_style": "success",
      "description": "",
      "description_tooltip": null,
      "layout": "IPY_MODEL_498c8df98c2148d08c089c2cde32fcdb",
      "max": 29,
      "min": 0,
      "orientation": "horizontal",
      "style": "IPY_MODEL_b23402fc02b148e8b8815df444234215",
      "value": 29
     }
    },
    "0abe7b2a98fe4ccc953b603fbea5abf5": {
     "model_module": "@jupyter-widgets/controls",
     "model_module_version": "1.5.0",
     "model_name": "ProgressStyleModel",
     "state": {
      "_model_module": "@jupyter-widgets/controls",
      "_model_module_version": "1.5.0",
      "_model_name": "ProgressStyleModel",
      "_view_count": null,
      "_view_module": "@jupyter-widgets/base",
      "_view_module_version": "1.2.0",
      "_view_name": "StyleView",
      "bar_color": null,
      "description_width": ""
     }
    },
    "100d0a1b8b3e4759aa1d02b4700f164a": {
     "model_module": "@jupyter-widgets/controls",
     "model_module_version": "1.5.0",
     "model_name": "DescriptionStyleModel",
     "state": {
      "_model_module": "@jupyter-widgets/controls",
      "_model_module_version": "1.5.0",
      "_model_name": "DescriptionStyleModel",
      "_view_count": null,
      "_view_module": "@jupyter-widgets/base",
      "_view_module_version": "1.2.0",
      "_view_name": "StyleView",
      "description_width": ""
     }
    },
    "156cbd1f971a4370af9828b35c9aff8e": {
     "model_module": "@jupyter-widgets/controls",
     "model_module_version": "1.5.0",
     "model_name": "DescriptionStyleModel",
     "state": {
      "_model_module": "@jupyter-widgets/controls",
      "_model_module_version": "1.5.0",
      "_model_name": "DescriptionStyleModel",
      "_view_count": null,
      "_view_module": "@jupyter-widgets/base",
      "_view_module_version": "1.2.0",
      "_view_name": "StyleView",
      "description_width": ""
     }
    },
    "1742cd149564492b9991991a3d5340df": {
     "model_module": "@jupyter-widgets/controls",
     "model_module_version": "1.5.0",
     "model_name": "DescriptionStyleModel",
     "state": {
      "_model_module": "@jupyter-widgets/controls",
      "_model_module_version": "1.5.0",
      "_model_name": "DescriptionStyleModel",
      "_view_count": null,
      "_view_module": "@jupyter-widgets/base",
      "_view_module_version": "1.2.0",
      "_view_name": "StyleView",
      "description_width": ""
     }
    },
    "19663b6ba49a45f1a992c7402ce7a367": {
     "model_module": "@jupyter-widgets/base",
     "model_module_version": "1.2.0",
     "model_name": "LayoutModel",
     "state": {
      "_model_module": "@jupyter-widgets/base",
      "_model_module_version": "1.2.0",
      "_model_name": "LayoutModel",
      "_view_count": null,
      "_view_module": "@jupyter-widgets/base",
      "_view_module_version": "1.2.0",
      "_view_name": "LayoutView",
      "align_content": null,
      "align_items": null,
      "align_self": null,
      "border": null,
      "bottom": null,
      "display": null,
      "flex": null,
      "flex_flow": null,
      "grid_area": null,
      "grid_auto_columns": null,
      "grid_auto_flow": null,
      "grid_auto_rows": null,
      "grid_column": null,
      "grid_gap": null,
      "grid_row": null,
      "grid_template_areas": null,
      "grid_template_columns": null,
      "grid_template_rows": null,
      "height": null,
      "justify_content": null,
      "justify_items": null,
      "left": null,
      "margin": null,
      "max_height": null,
      "max_width": null,
      "min_height": null,
      "min_width": null,
      "object_fit": null,
      "object_position": null,
      "order": null,
      "overflow": null,
      "overflow_x": null,
      "overflow_y": null,
      "padding": null,
      "right": null,
      "top": null,
      "visibility": null,
      "width": null
     }
    },
    "1d684b49f9f54304abc032c07cfa458d": {
     "model_module": "@jupyter-widgets/controls",
     "model_module_version": "1.5.0",
     "model_name": "ProgressStyleModel",
     "state": {
      "_model_module": "@jupyter-widgets/controls",
      "_model_module_version": "1.5.0",
      "_model_name": "ProgressStyleModel",
      "_view_count": null,
      "_view_module": "@jupyter-widgets/base",
      "_view_module_version": "1.2.0",
      "_view_name": "StyleView",
      "bar_color": null,
      "description_width": ""
     }
    },
    "1dfc2703ec364bcd93d2688cf155c10a": {
     "model_module": "@jupyter-widgets/base",
     "model_module_version": "1.2.0",
     "model_name": "LayoutModel",
     "state": {
      "_model_module": "@jupyter-widgets/base",
      "_model_module_version": "1.2.0",
      "_model_name": "LayoutModel",
      "_view_count": null,
      "_view_module": "@jupyter-widgets/base",
      "_view_module_version": "1.2.0",
      "_view_name": "LayoutView",
      "align_content": null,
      "align_items": null,
      "align_self": null,
      "border": null,
      "bottom": null,
      "display": null,
      "flex": null,
      "flex_flow": null,
      "grid_area": null,
      "grid_auto_columns": null,
      "grid_auto_flow": null,
      "grid_auto_rows": null,
      "grid_column": null,
      "grid_gap": null,
      "grid_row": null,
      "grid_template_areas": null,
      "grid_template_columns": null,
      "grid_template_rows": null,
      "height": null,
      "justify_content": null,
      "justify_items": null,
      "left": null,
      "margin": null,
      "max_height": null,
      "max_width": null,
      "min_height": null,
      "min_width": null,
      "object_fit": null,
      "object_position": null,
      "order": null,
      "overflow": null,
      "overflow_x": null,
      "overflow_y": null,
      "padding": null,
      "right": null,
      "top": null,
      "visibility": null,
      "width": null
     }
    },
    "1f6b5f1c4ffc4a95ac7d1f0a4cdf81cb": {
     "model_module": "@jupyter-widgets/controls",
     "model_module_version": "1.5.0",
     "model_name": "HTMLModel",
     "state": {
      "_dom_classes": [],
      "_model_module": "@jupyter-widgets/controls",
      "_model_module_version": "1.5.0",
      "_model_name": "HTMLModel",
      "_view_count": null,
      "_view_module": "@jupyter-widgets/controls",
      "_view_module_version": "1.5.0",
      "_view_name": "HTMLView",
      "description": "",
      "description_tooltip": null,
      "layout": "IPY_MODEL_dc8a0a9ff1814c94a32690b524649add",
      "placeholder": "​",
      "style": "IPY_MODEL_100d0a1b8b3e4759aa1d02b4700f164a",
      "value": " 1181/1181 [00:00&lt;00:00, 1831.20 examples/s]"
     }
    },
    "20b0b25c50804acd9a930d0dc3ad360c": {
     "model_module": "@jupyter-widgets/controls",
     "model_module_version": "1.5.0",
     "model_name": "HTMLModel",
     "state": {
      "_dom_classes": [],
      "_model_module": "@jupyter-widgets/controls",
      "_model_module_version": "1.5.0",
      "_model_name": "HTMLModel",
      "_view_count": null,
      "_view_module": "@jupyter-widgets/controls",
      "_view_module_version": "1.5.0",
      "_view_name": "HTMLView",
      "description": "",
      "description_tooltip": null,
      "layout": "IPY_MODEL_88b8bbc04077486ab10cd533ff2cef3e",
      "placeholder": "​",
      "style": "IPY_MODEL_983ff244ad1643aebef0e66a79b232f2",
      "value": " 3543/3543 [00:02&lt;00:00, 1719.54 examples/s]"
     }
    },
    "242d141edb6042c6bff3fce7adf37920": {
     "model_module": "@jupyter-widgets/base",
     "model_module_version": "1.2.0",
     "model_name": "LayoutModel",
     "state": {
      "_model_module": "@jupyter-widgets/base",
      "_model_module_version": "1.2.0",
      "_model_name": "LayoutModel",
      "_view_count": null,
      "_view_module": "@jupyter-widgets/base",
      "_view_module_version": "1.2.0",
      "_view_name": "LayoutView",
      "align_content": null,
      "align_items": null,
      "align_self": null,
      "border": null,
      "bottom": null,
      "display": null,
      "flex": null,
      "flex_flow": null,
      "grid_area": null,
      "grid_auto_columns": null,
      "grid_auto_flow": null,
      "grid_auto_rows": null,
      "grid_column": null,
      "grid_gap": null,
      "grid_row": null,
      "grid_template_areas": null,
      "grid_template_columns": null,
      "grid_template_rows": null,
      "height": null,
      "justify_content": null,
      "justify_items": null,
      "left": null,
      "margin": null,
      "max_height": null,
      "max_width": null,
      "min_height": null,
      "min_width": null,
      "object_fit": null,
      "object_position": null,
      "order": null,
      "overflow": null,
      "overflow_x": null,
      "overflow_y": null,
      "padding": null,
      "right": null,
      "top": null,
      "visibility": null,
      "width": null
     }
    },
    "24eeeb0767504963a6d3b7a3b23a0cf3": {
     "model_module": "@jupyter-widgets/controls",
     "model_module_version": "1.5.0",
     "model_name": "HBoxModel",
     "state": {
      "_dom_classes": [],
      "_model_module": "@jupyter-widgets/controls",
      "_model_module_version": "1.5.0",
      "_model_name": "HBoxModel",
      "_view_count": null,
      "_view_module": "@jupyter-widgets/controls",
      "_view_module_version": "1.5.0",
      "_view_name": "HBoxView",
      "box_style": "",
      "children": [
       "IPY_MODEL_3573fb9fc6b341dc927df3f9a2803f94",
       "IPY_MODEL_3f3c33163a80476b8ad65a4777525f44",
       "IPY_MODEL_f656f0d2052e49b5a23821d8566b9096"
      ],
      "layout": "IPY_MODEL_8e56fae3062a4954bdc53fe075d37c09"
     }
    },
    "24fbe151f1394f8794e264c182a42cab": {
     "model_module": "@jupyter-widgets/controls",
     "model_module_version": "1.5.0",
     "model_name": "DescriptionStyleModel",
     "state": {
      "_model_module": "@jupyter-widgets/controls",
      "_model_module_version": "1.5.0",
      "_model_name": "DescriptionStyleModel",
      "_view_count": null,
      "_view_module": "@jupyter-widgets/base",
      "_view_module_version": "1.2.0",
      "_view_name": "StyleView",
      "description_width": ""
     }
    },
    "26c487e3196049a0987cf9261af118c6": {
     "model_module": "@jupyter-widgets/controls",
     "model_module_version": "1.5.0",
     "model_name": "HTMLModel",
     "state": {
      "_dom_classes": [],
      "_model_module": "@jupyter-widgets/controls",
      "_model_module_version": "1.5.0",
      "_model_name": "HTMLModel",
      "_view_count": null,
      "_view_module": "@jupyter-widgets/controls",
      "_view_module_version": "1.5.0",
      "_view_name": "HTMLView",
      "description": "",
      "description_tooltip": null,
      "layout": "IPY_MODEL_4f09c3219588408ba1b9322371615c5c",
      "placeholder": "​",
      "style": "IPY_MODEL_52c53fb32c5d414e87bcf30eb8b205c1",
      "value": "Map: 100%"
     }
    },
    "2885d47862104b5c8dc8f2c5c570ca8e": {
     "model_module": "@jupyter-widgets/base",
     "model_module_version": "1.2.0",
     "model_name": "LayoutModel",
     "state": {
      "_model_module": "@jupyter-widgets/base",
      "_model_module_version": "1.2.0",
      "_model_name": "LayoutModel",
      "_view_count": null,
      "_view_module": "@jupyter-widgets/base",
      "_view_module_version": "1.2.0",
      "_view_name": "LayoutView",
      "align_content": null,
      "align_items": null,
      "align_self": null,
      "border": null,
      "bottom": null,
      "display": null,
      "flex": null,
      "flex_flow": null,
      "grid_area": null,
      "grid_auto_columns": null,
      "grid_auto_flow": null,
      "grid_auto_rows": null,
      "grid_column": null,
      "grid_gap": null,
      "grid_row": null,
      "grid_template_areas": null,
      "grid_template_columns": null,
      "grid_template_rows": null,
      "height": null,
      "justify_content": null,
      "justify_items": null,
      "left": null,
      "margin": null,
      "max_height": null,
      "max_width": null,
      "min_height": null,
      "min_width": null,
      "object_fit": null,
      "object_position": null,
      "order": null,
      "overflow": null,
      "overflow_x": null,
      "overflow_y": null,
      "padding": null,
      "right": null,
      "top": null,
      "visibility": null,
      "width": null
     }
    },
    "2915fe65e51f4a8aa71180b4002b2fc5": {
     "model_module": "@jupyter-widgets/controls",
     "model_module_version": "1.5.0",
     "model_name": "DescriptionStyleModel",
     "state": {
      "_model_module": "@jupyter-widgets/controls",
      "_model_module_version": "1.5.0",
      "_model_name": "DescriptionStyleModel",
      "_view_count": null,
      "_view_module": "@jupyter-widgets/base",
      "_view_module_version": "1.2.0",
      "_view_name": "StyleView",
      "description_width": ""
     }
    },
    "29b0915a421442f0bb68aecb75c78aa7": {
     "model_module": "@jupyter-widgets/controls",
     "model_module_version": "1.5.0",
     "model_name": "HBoxModel",
     "state": {
      "_dom_classes": [],
      "_model_module": "@jupyter-widgets/controls",
      "_model_module_version": "1.5.0",
      "_model_name": "HBoxModel",
      "_view_count": null,
      "_view_module": "@jupyter-widgets/controls",
      "_view_module_version": "1.5.0",
      "_view_name": "HBoxView",
      "box_style": "",
      "children": [
       "IPY_MODEL_dbf1b1a0ebd142148a19be69fc3b774d",
       "IPY_MODEL_51f57e6cb2574390b2a514c15748c06c",
       "IPY_MODEL_bc0c4d03073e45f08a278ebd06dc8426"
      ],
      "layout": "IPY_MODEL_1dfc2703ec364bcd93d2688cf155c10a"
     }
    },
    "2b29ce0cfd7e4242bbf33a9a2b4be684": {
     "model_module": "@jupyter-widgets/base",
     "model_module_version": "1.2.0",
     "model_name": "LayoutModel",
     "state": {
      "_model_module": "@jupyter-widgets/base",
      "_model_module_version": "1.2.0",
      "_model_name": "LayoutModel",
      "_view_count": null,
      "_view_module": "@jupyter-widgets/base",
      "_view_module_version": "1.2.0",
      "_view_name": "LayoutView",
      "align_content": null,
      "align_items": null,
      "align_self": null,
      "border": null,
      "bottom": null,
      "display": null,
      "flex": null,
      "flex_flow": null,
      "grid_area": null,
      "grid_auto_columns": null,
      "grid_auto_flow": null,
      "grid_auto_rows": null,
      "grid_column": null,
      "grid_gap": null,
      "grid_row": null,
      "grid_template_areas": null,
      "grid_template_columns": null,
      "grid_template_rows": null,
      "height": null,
      "justify_content": null,
      "justify_items": null,
      "left": null,
      "margin": null,
      "max_height": null,
      "max_width": null,
      "min_height": null,
      "min_width": null,
      "object_fit": null,
      "object_position": null,
      "order": null,
      "overflow": null,
      "overflow_x": null,
      "overflow_y": null,
      "padding": null,
      "right": null,
      "top": null,
      "visibility": null,
      "width": null
     }
    },
    "31703e44a3f641399fb27af3ba80e318": {
     "model_module": "@jupyter-widgets/controls",
     "model_module_version": "1.5.0",
     "model_name": "ProgressStyleModel",
     "state": {
      "_model_module": "@jupyter-widgets/controls",
      "_model_module_version": "1.5.0",
      "_model_name": "ProgressStyleModel",
      "_view_count": null,
      "_view_module": "@jupyter-widgets/base",
      "_view_module_version": "1.2.0",
      "_view_name": "StyleView",
      "bar_color": null,
      "description_width": ""
     }
    },
    "319ad459df124e43a01ab63dc387e615": {
     "model_module": "@jupyter-widgets/base",
     "model_module_version": "1.2.0",
     "model_name": "LayoutModel",
     "state": {
      "_model_module": "@jupyter-widgets/base",
      "_model_module_version": "1.2.0",
      "_model_name": "LayoutModel",
      "_view_count": null,
      "_view_module": "@jupyter-widgets/base",
      "_view_module_version": "1.2.0",
      "_view_name": "LayoutView",
      "align_content": null,
      "align_items": null,
      "align_self": null,
      "border": null,
      "bottom": null,
      "display": null,
      "flex": null,
      "flex_flow": null,
      "grid_area": null,
      "grid_auto_columns": null,
      "grid_auto_flow": null,
      "grid_auto_rows": null,
      "grid_column": null,
      "grid_gap": null,
      "grid_row": null,
      "grid_template_areas": null,
      "grid_template_columns": null,
      "grid_template_rows": null,
      "height": null,
      "justify_content": null,
      "justify_items": null,
      "left": null,
      "margin": null,
      "max_height": null,
      "max_width": null,
      "min_height": null,
      "min_width": null,
      "object_fit": null,
      "object_position": null,
      "order": null,
      "overflow": null,
      "overflow_x": null,
      "overflow_y": null,
      "padding": null,
      "right": null,
      "top": null,
      "visibility": null,
      "width": null
     }
    },
    "32142b88178742a491a4b2f0f16e9dbb": {
     "model_module": "@jupyter-widgets/controls",
     "model_module_version": "1.5.0",
     "model_name": "HBoxModel",
     "state": {
      "_dom_classes": [],
      "_model_module": "@jupyter-widgets/controls",
      "_model_module_version": "1.5.0",
      "_model_name": "HBoxModel",
      "_view_count": null,
      "_view_module": "@jupyter-widgets/controls",
      "_view_module_version": "1.5.0",
      "_view_name": "HBoxView",
      "box_style": "",
      "children": [
       "IPY_MODEL_74a58ef392c1400cb03b227999e49edd",
       "IPY_MODEL_7bf20fbf23d14e2eba89ac126f50bb5a",
       "IPY_MODEL_1f6b5f1c4ffc4a95ac7d1f0a4cdf81cb"
      ],
      "layout": "IPY_MODEL_fb42771a92234e769f41eba545e36dea"
     }
    },
    "3573fb9fc6b341dc927df3f9a2803f94": {
     "model_module": "@jupyter-widgets/controls",
     "model_module_version": "1.5.0",
     "model_name": "HTMLModel",
     "state": {
      "_dom_classes": [],
      "_model_module": "@jupyter-widgets/controls",
      "_model_module_version": "1.5.0",
      "_model_name": "HTMLModel",
      "_view_count": null,
      "_view_module": "@jupyter-widgets/controls",
      "_view_module_version": "1.5.0",
      "_view_name": "HTMLView",
      "description": "",
      "description_tooltip": null,
      "layout": "IPY_MODEL_49927380bd704ba4822e7fd66ee8e49c",
      "placeholder": "​",
      "style": "IPY_MODEL_e3d690ac577d4fcfa2f1d1edb554166c",
      "value": "model.safetensors: 100%"
     }
    },
    "360793e5846a4920b5a974c0b5c6905a": {
     "model_module": "@jupyter-widgets/base",
     "model_module_version": "1.2.0",
     "model_name": "LayoutModel",
     "state": {
      "_model_module": "@jupyter-widgets/base",
      "_model_module_version": "1.2.0",
      "_model_name": "LayoutModel",
      "_view_count": null,
      "_view_module": "@jupyter-widgets/base",
      "_view_module_version": "1.2.0",
      "_view_name": "LayoutView",
      "align_content": null,
      "align_items": null,
      "align_self": null,
      "border": null,
      "bottom": null,
      "display": null,
      "flex": null,
      "flex_flow": null,
      "grid_area": null,
      "grid_auto_columns": null,
      "grid_auto_flow": null,
      "grid_auto_rows": null,
      "grid_column": null,
      "grid_gap": null,
      "grid_row": null,
      "grid_template_areas": null,
      "grid_template_columns": null,
      "grid_template_rows": null,
      "height": null,
      "justify_content": null,
      "justify_items": null,
      "left": null,
      "margin": null,
      "max_height": null,
      "max_width": null,
      "min_height": null,
      "min_width": null,
      "object_fit": null,
      "object_position": null,
      "order": null,
      "overflow": null,
      "overflow_x": null,
      "overflow_y": null,
      "padding": null,
      "right": null,
      "top": null,
      "visibility": null,
      "width": null
     }
    },
    "38b85482a4034cc0b0f734f5776e8d62": {
     "model_module": "@jupyter-widgets/controls",
     "model_module_version": "1.5.0",
     "model_name": "HTMLModel",
     "state": {
      "_dom_classes": [],
      "_model_module": "@jupyter-widgets/controls",
      "_model_module_version": "1.5.0",
      "_model_name": "HTMLModel",
      "_view_count": null,
      "_view_module": "@jupyter-widgets/controls",
      "_view_module_version": "1.5.0",
      "_view_name": "HTMLView",
      "description": "",
      "description_tooltip": null,
      "layout": "IPY_MODEL_360793e5846a4920b5a974c0b5c6905a",
      "placeholder": "​",
      "style": "IPY_MODEL_2915fe65e51f4a8aa71180b4002b2fc5",
      "value": " 213k/213k [00:00&lt;00:00, 1.79MB/s]"
     }
    },
    "3af0dc22f0bd4e01a5c3ea2df2b9a98a": {
     "model_module": "@jupyter-widgets/base",
     "model_module_version": "1.2.0",
     "model_name": "LayoutModel",
     "state": {
      "_model_module": "@jupyter-widgets/base",
      "_model_module_version": "1.2.0",
      "_model_name": "LayoutModel",
      "_view_count": null,
      "_view_module": "@jupyter-widgets/base",
      "_view_module_version": "1.2.0",
      "_view_name": "LayoutView",
      "align_content": null,
      "align_items": null,
      "align_self": null,
      "border": null,
      "bottom": null,
      "display": null,
      "flex": null,
      "flex_flow": null,
      "grid_area": null,
      "grid_auto_columns": null,
      "grid_auto_flow": null,
      "grid_auto_rows": null,
      "grid_column": null,
      "grid_gap": null,
      "grid_row": null,
      "grid_template_areas": null,
      "grid_template_columns": null,
      "grid_template_rows": null,
      "height": null,
      "justify_content": null,
      "justify_items": null,
      "left": null,
      "margin": null,
      "max_height": null,
      "max_width": null,
      "min_height": null,
      "min_width": null,
      "object_fit": null,
      "object_position": null,
      "order": null,
      "overflow": null,
      "overflow_x": null,
      "overflow_y": null,
      "padding": null,
      "right": null,
      "top": null,
      "visibility": null,
      "width": null
     }
    },
    "3f3c33163a80476b8ad65a4777525f44": {
     "model_module": "@jupyter-widgets/controls",
     "model_module_version": "1.5.0",
     "model_name": "FloatProgressModel",
     "state": {
      "_dom_classes": [],
      "_model_module": "@jupyter-widgets/controls",
      "_model_module_version": "1.5.0",
      "_model_name": "FloatProgressModel",
      "_view_count": null,
      "_view_module": "@jupyter-widgets/controls",
      "_view_module_version": "1.5.0",
      "_view_name": "ProgressView",
      "bar_style": "success",
      "description": "",
      "description_tooltip": null,
      "layout": "IPY_MODEL_9fdc10bae08b4be0ba4728cdd2a6522b",
      "max": 263260784,
      "min": 0,
      "orientation": "horizontal",
      "style": "IPY_MODEL_677036f676224bffbbaa905207f88c4a",
      "value": 263260784
     }
    },
    "3f433984911c4bc197f0125a40fa9323": {
     "model_module": "@jupyter-widgets/base",
     "model_module_version": "1.2.0",
     "model_name": "LayoutModel",
     "state": {
      "_model_module": "@jupyter-widgets/base",
      "_model_module_version": "1.2.0",
      "_model_name": "LayoutModel",
      "_view_count": null,
      "_view_module": "@jupyter-widgets/base",
      "_view_module_version": "1.2.0",
      "_view_name": "LayoutView",
      "align_content": null,
      "align_items": null,
      "align_self": null,
      "border": null,
      "bottom": null,
      "display": null,
      "flex": null,
      "flex_flow": null,
      "grid_area": null,
      "grid_auto_columns": null,
      "grid_auto_flow": null,
      "grid_auto_rows": null,
      "grid_column": null,
      "grid_gap": null,
      "grid_row": null,
      "grid_template_areas": null,
      "grid_template_columns": null,
      "grid_template_rows": null,
      "height": null,
      "justify_content": null,
      "justify_items": null,
      "left": null,
      "margin": null,
      "max_height": null,
      "max_width": null,
      "min_height": null,
      "min_width": null,
      "object_fit": null,
      "object_position": null,
      "order": null,
      "overflow": null,
      "overflow_x": null,
      "overflow_y": null,
      "padding": null,
      "right": null,
      "top": null,
      "visibility": null,
      "width": null
     }
    },
    "498c8df98c2148d08c089c2cde32fcdb": {
     "model_module": "@jupyter-widgets/base",
     "model_module_version": "1.2.0",
     "model_name": "LayoutModel",
     "state": {
      "_model_module": "@jupyter-widgets/base",
      "_model_module_version": "1.2.0",
      "_model_name": "LayoutModel",
      "_view_count": null,
      "_view_module": "@jupyter-widgets/base",
      "_view_module_version": "1.2.0",
      "_view_name": "LayoutView",
      "align_content": null,
      "align_items": null,
      "align_self": null,
      "border": null,
      "bottom": null,
      "display": null,
      "flex": null,
      "flex_flow": null,
      "grid_area": null,
      "grid_auto_columns": null,
      "grid_auto_flow": null,
      "grid_auto_rows": null,
      "grid_column": null,
      "grid_gap": null,
      "grid_row": null,
      "grid_template_areas": null,
      "grid_template_columns": null,
      "grid_template_rows": null,
      "height": null,
      "justify_content": null,
      "justify_items": null,
      "left": null,
      "margin": null,
      "max_height": null,
      "max_width": null,
      "min_height": null,
      "min_width": null,
      "object_fit": null,
      "object_position": null,
      "order": null,
      "overflow": null,
      "overflow_x": null,
      "overflow_y": null,
      "padding": null,
      "right": null,
      "top": null,
      "visibility": null,
      "width": null
     }
    },
    "49927380bd704ba4822e7fd66ee8e49c": {
     "model_module": "@jupyter-widgets/base",
     "model_module_version": "1.2.0",
     "model_name": "LayoutModel",
     "state": {
      "_model_module": "@jupyter-widgets/base",
      "_model_module_version": "1.2.0",
      "_model_name": "LayoutModel",
      "_view_count": null,
      "_view_module": "@jupyter-widgets/base",
      "_view_module_version": "1.2.0",
      "_view_name": "LayoutView",
      "align_content": null,
      "align_items": null,
      "align_self": null,
      "border": null,
      "bottom": null,
      "display": null,
      "flex": null,
      "flex_flow": null,
      "grid_area": null,
      "grid_auto_columns": null,
      "grid_auto_flow": null,
      "grid_auto_rows": null,
      "grid_column": null,
      "grid_gap": null,
      "grid_row": null,
      "grid_template_areas": null,
      "grid_template_columns": null,
      "grid_template_rows": null,
      "height": null,
      "justify_content": null,
      "justify_items": null,
      "left": null,
      "margin": null,
      "max_height": null,
      "max_width": null,
      "min_height": null,
      "min_width": null,
      "object_fit": null,
      "object_position": null,
      "order": null,
      "overflow": null,
      "overflow_x": null,
      "overflow_y": null,
      "padding": null,
      "right": null,
      "top": null,
      "visibility": null,
      "width": null
     }
    },
    "4abf8ae5b38d4144aa163d75af603da3": {
     "model_module": "@jupyter-widgets/controls",
     "model_module_version": "1.5.0",
     "model_name": "HTMLModel",
     "state": {
      "_dom_classes": [],
      "_model_module": "@jupyter-widgets/controls",
      "_model_module_version": "1.5.0",
      "_model_name": "HTMLModel",
      "_view_count": null,
      "_view_module": "@jupyter-widgets/controls",
      "_view_module_version": "1.5.0",
      "_view_name": "HTMLView",
      "description": "",
      "description_tooltip": null,
      "layout": "IPY_MODEL_6c06d435d35d4c519b8edcba71d9e1a6",
      "placeholder": "​",
      "style": "IPY_MODEL_156cbd1f971a4370af9828b35c9aff8e",
      "value": " 4.55k/4.55k [00:00&lt;00:00, 308kB/s]"
     }
    },
    "4bee6d794c2748899405e2ca89cb3604": {
     "model_module": "@jupyter-widgets/controls",
     "model_module_version": "1.5.0",
     "model_name": "HBoxModel",
     "state": {
      "_dom_classes": [],
      "_model_module": "@jupyter-widgets/controls",
      "_model_module_version": "1.5.0",
      "_model_name": "HBoxModel",
      "_view_count": null,
      "_view_module": "@jupyter-widgets/controls",
      "_view_module_version": "1.5.0",
      "_view_name": "HBoxView",
      "box_style": "",
      "children": [
       "IPY_MODEL_88ef025c19d84d2fab27e94f9a2a9223",
       "IPY_MODEL_70f1983d4d68460baeef3d6b68f7c669",
       "IPY_MODEL_e224d3079c4340fb94a9d2992f46f070"
      ],
      "layout": "IPY_MODEL_be3082e613d943b98535509a0391826f"
     }
    },
    "4e2ee8b04a7f439db11a5f226c7d8357": {
     "model_module": "@jupyter-widgets/controls",
     "model_module_version": "1.5.0",
     "model_name": "FloatProgressModel",
     "state": {
      "_dom_classes": [],
      "_model_module": "@jupyter-widgets/controls",
      "_model_module_version": "1.5.0",
      "_model_name": "FloatProgressModel",
      "_view_count": null,
      "_view_module": "@jupyter-widgets/controls",
      "_view_module_version": "1.5.0",
      "_view_name": "ProgressView",
      "bar_style": "success",
      "description": "",
      "description_tooltip": null,
      "layout": "IPY_MODEL_e1d3d018e086431c956058df5569557b",
      "max": 3543,
      "min": 0,
      "orientation": "horizontal",
      "style": "IPY_MODEL_64f674c22ddb4a7da80b8b1c088cae73",
      "value": 3543
     }
    },
    "4f09c3219588408ba1b9322371615c5c": {
     "model_module": "@jupyter-widgets/base",
     "model_module_version": "1.2.0",
     "model_name": "LayoutModel",
     "state": {
      "_model_module": "@jupyter-widgets/base",
      "_model_module_version": "1.2.0",
      "_model_name": "LayoutModel",
      "_view_count": null,
      "_view_module": "@jupyter-widgets/base",
      "_view_module_version": "1.2.0",
      "_view_name": "LayoutView",
      "align_content": null,
      "align_items": null,
      "align_self": null,
      "border": null,
      "bottom": null,
      "display": null,
      "flex": null,
      "flex_flow": null,
      "grid_area": null,
      "grid_auto_columns": null,
      "grid_auto_flow": null,
      "grid_auto_rows": null,
      "grid_column": null,
      "grid_gap": null,
      "grid_row": null,
      "grid_template_areas": null,
      "grid_template_columns": null,
      "grid_template_rows": null,
      "height": null,
      "justify_content": null,
      "justify_items": null,
      "left": null,
      "margin": null,
      "max_height": null,
      "max_width": null,
      "min_height": null,
      "min_width": null,
      "object_fit": null,
      "object_position": null,
      "order": null,
      "overflow": null,
      "overflow_x": null,
      "overflow_y": null,
      "padding": null,
      "right": null,
      "top": null,
      "visibility": null,
      "width": null
     }
    },
    "51f57e6cb2574390b2a514c15748c06c": {
     "model_module": "@jupyter-widgets/controls",
     "model_module_version": "1.5.0",
     "model_name": "FloatProgressModel",
     "state": {
      "_dom_classes": [],
      "_model_module": "@jupyter-widgets/controls",
      "_model_module_version": "1.5.0",
      "_model_name": "FloatProgressModel",
      "_view_count": null,
      "_view_module": "@jupyter-widgets/controls",
      "_view_module_version": "1.5.0",
      "_view_name": "ProgressView",
      "bar_style": "success",
      "description": "",
      "description_tooltip": null,
      "layout": "IPY_MODEL_8b0640ce9b7745f1a8c675139b967f44",
      "max": 4488,
      "min": 0,
      "orientation": "horizontal",
      "style": "IPY_MODEL_a446d35fcc9b4a3d91c9a5e9bbf017da",
      "value": 4488
     }
    },
    "52c53fb32c5d414e87bcf30eb8b205c1": {
     "model_module": "@jupyter-widgets/controls",
     "model_module_version": "1.5.0",
     "model_name": "DescriptionStyleModel",
     "state": {
      "_model_module": "@jupyter-widgets/controls",
      "_model_module_version": "1.5.0",
      "_model_name": "DescriptionStyleModel",
      "_view_count": null,
      "_view_module": "@jupyter-widgets/base",
      "_view_module_version": "1.2.0",
      "_view_name": "StyleView",
      "description_width": ""
     }
    },
    "5b9f5d9e63224c59ba2d9f9a670a7463": {
     "model_module": "@jupyter-widgets/controls",
     "model_module_version": "1.5.0",
     "model_name": "DescriptionStyleModel",
     "state": {
      "_model_module": "@jupyter-widgets/controls",
      "_model_module_version": "1.5.0",
      "_model_name": "DescriptionStyleModel",
      "_view_count": null,
      "_view_module": "@jupyter-widgets/base",
      "_view_module_version": "1.2.0",
      "_view_name": "StyleView",
      "description_width": ""
     }
    },
    "5c74e62178f5444694164aa6f404f65b": {
     "model_module": "@jupyter-widgets/controls",
     "model_module_version": "1.5.0",
     "model_name": "HBoxModel",
     "state": {
      "_dom_classes": [],
      "_model_module": "@jupyter-widgets/controls",
      "_model_module_version": "1.5.0",
      "_model_name": "HBoxModel",
      "_view_count": null,
      "_view_module": "@jupyter-widgets/controls",
      "_view_module_version": "1.5.0",
      "_view_name": "HBoxView",
      "box_style": "",
      "children": [
       "IPY_MODEL_26c487e3196049a0987cf9261af118c6",
       "IPY_MODEL_4e2ee8b04a7f439db11a5f226c7d8357",
       "IPY_MODEL_20b0b25c50804acd9a930d0dc3ad360c"
      ],
      "layout": "IPY_MODEL_96ad0159570144f0862bc3eff742e056"
     }
    },
    "5f67a6588886442d863083d6514a032a": {
     "model_module": "@jupyter-widgets/controls",
     "model_module_version": "1.5.0",
     "model_name": "HBoxModel",
     "state": {
      "_dom_classes": [],
      "_model_module": "@jupyter-widgets/controls",
      "_model_module_version": "1.5.0",
      "_model_name": "HBoxModel",
      "_view_count": null,
      "_view_module": "@jupyter-widgets/controls",
      "_view_module_version": "1.5.0",
      "_view_name": "HBoxView",
      "box_style": "",
      "children": [
       "IPY_MODEL_be85cb15d64d4dcfb3cd8de679a14dbe",
       "IPY_MODEL_09d8fdd5e466478fa73dc9e003f98550",
       "IPY_MODEL_a2f3828a90694d2e95d3db4a10cb2cf6"
      ],
      "layout": "IPY_MODEL_2b29ce0cfd7e4242bbf33a9a2b4be684"
     }
    },
    "5f972b15c8a14a84889a3c2ba1d61a9c": {
     "model_module": "@jupyter-widgets/base",
     "model_module_version": "1.2.0",
     "model_name": "LayoutModel",
     "state": {
      "_model_module": "@jupyter-widgets/base",
      "_model_module_version": "1.2.0",
      "_model_name": "LayoutModel",
      "_view_count": null,
      "_view_module": "@jupyter-widgets/base",
      "_view_module_version": "1.2.0",
      "_view_name": "LayoutView",
      "align_content": null,
      "align_items": null,
      "align_self": null,
      "border": null,
      "bottom": null,
      "display": null,
      "flex": null,
      "flex_flow": null,
      "grid_area": null,
      "grid_auto_columns": null,
      "grid_auto_flow": null,
      "grid_auto_rows": null,
      "grid_column": null,
      "grid_gap": null,
      "grid_row": null,
      "grid_template_areas": null,
      "grid_template_columns": null,
      "grid_template_rows": null,
      "height": null,
      "justify_content": null,
      "justify_items": null,
      "left": null,
      "margin": null,
      "max_height": null,
      "max_width": null,
      "min_height": null,
      "min_width": null,
      "object_fit": null,
      "object_position": null,
      "order": null,
      "overflow": null,
      "overflow_x": null,
      "overflow_y": null,
      "padding": null,
      "right": null,
      "top": null,
      "visibility": null,
      "width": null
     }
    },
    "64f674c22ddb4a7da80b8b1c088cae73": {
     "model_module": "@jupyter-widgets/controls",
     "model_module_version": "1.5.0",
     "model_name": "ProgressStyleModel",
     "state": {
      "_model_module": "@jupyter-widgets/controls",
      "_model_module_version": "1.5.0",
      "_model_name": "ProgressStyleModel",
      "_view_count": null,
      "_view_module": "@jupyter-widgets/base",
      "_view_module_version": "1.2.0",
      "_view_name": "StyleView",
      "bar_color": null,
      "description_width": ""
     }
    },
    "677036f676224bffbbaa905207f88c4a": {
     "model_module": "@jupyter-widgets/controls",
     "model_module_version": "1.5.0",
     "model_name": "ProgressStyleModel",
     "state": {
      "_model_module": "@jupyter-widgets/controls",
      "_model_module_version": "1.5.0",
      "_model_name": "ProgressStyleModel",
      "_view_count": null,
      "_view_module": "@jupyter-widgets/base",
      "_view_module_version": "1.2.0",
      "_view_name": "StyleView",
      "bar_color": null,
      "description_width": ""
     }
    },
    "6780def75c734ffeac2c2f01c2f49b25": {
     "model_module": "@jupyter-widgets/controls",
     "model_module_version": "1.5.0",
     "model_name": "DescriptionStyleModel",
     "state": {
      "_model_module": "@jupyter-widgets/controls",
      "_model_module_version": "1.5.0",
      "_model_name": "DescriptionStyleModel",
      "_view_count": null,
      "_view_module": "@jupyter-widgets/base",
      "_view_module_version": "1.2.0",
      "_view_name": "StyleView",
      "description_width": ""
     }
    },
    "68aca5bd20f840e083ea3da8c2f3111e": {
     "model_module": "@jupyter-widgets/controls",
     "model_module_version": "1.5.0",
     "model_name": "FloatProgressModel",
     "state": {
      "_dom_classes": [],
      "_model_module": "@jupyter-widgets/controls",
      "_model_module_version": "1.5.0",
      "_model_name": "FloatProgressModel",
      "_view_count": null,
      "_view_module": "@jupyter-widgets/controls",
      "_view_module_version": "1.5.0",
      "_view_name": "ProgressView",
      "bar_style": "success",
      "description": "",
      "description_tooltip": null,
      "layout": "IPY_MODEL_0246e356a15c471294b882da43561963",
      "max": 4546,
      "min": 0,
      "orientation": "horizontal",
      "style": "IPY_MODEL_70638384dc4a4a4daa3326a7c9b50783",
      "value": 4546
     }
    },
    "6c06d435d35d4c519b8edcba71d9e1a6": {
     "model_module": "@jupyter-widgets/base",
     "model_module_version": "1.2.0",
     "model_name": "LayoutModel",
     "state": {
      "_model_module": "@jupyter-widgets/base",
      "_model_module_version": "1.2.0",
      "_model_name": "LayoutModel",
      "_view_count": null,
      "_view_module": "@jupyter-widgets/base",
      "_view_module_version": "1.2.0",
      "_view_name": "LayoutView",
      "align_content": null,
      "align_items": null,
      "align_self": null,
      "border": null,
      "bottom": null,
      "display": null,
      "flex": null,
      "flex_flow": null,
      "grid_area": null,
      "grid_auto_columns": null,
      "grid_auto_flow": null,
      "grid_auto_rows": null,
      "grid_column": null,
      "grid_gap": null,
      "grid_row": null,
      "grid_template_areas": null,
      "grid_template_columns": null,
      "grid_template_rows": null,
      "height": null,
      "justify_content": null,
      "justify_items": null,
      "left": null,
      "margin": null,
      "max_height": null,
      "max_width": null,
      "min_height": null,
      "min_width": null,
      "object_fit": null,
      "object_position": null,
      "order": null,
      "overflow": null,
      "overflow_x": null,
      "overflow_y": null,
      "padding": null,
      "right": null,
      "top": null,
      "visibility": null,
      "width": null
     }
    },
    "6f2cd1b86a9445629df92300fadb89e3": {
     "model_module": "@jupyter-widgets/controls",
     "model_module_version": "1.5.0",
     "model_name": "HBoxModel",
     "state": {
      "_dom_classes": [],
      "_model_module": "@jupyter-widgets/controls",
      "_model_module_version": "1.5.0",
      "_model_name": "HBoxModel",
      "_view_count": null,
      "_view_module": "@jupyter-widgets/controls",
      "_view_module_version": "1.5.0",
      "_view_name": "HBoxView",
      "box_style": "",
      "children": [
       "IPY_MODEL_abc2e80a54c34bd68012c410831326ac",
       "IPY_MODEL_68aca5bd20f840e083ea3da8c2f3111e",
       "IPY_MODEL_4abf8ae5b38d4144aa163d75af603da3"
      ],
      "layout": "IPY_MODEL_e6685d9beb3e464c881ca33fffecabde"
     }
    },
    "70339fc918314723873fc78621372670": {
     "model_module": "@jupyter-widgets/controls",
     "model_module_version": "1.5.0",
     "model_name": "HTMLModel",
     "state": {
      "_dom_classes": [],
      "_model_module": "@jupyter-widgets/controls",
      "_model_module_version": "1.5.0",
      "_model_name": "HTMLModel",
      "_view_count": null,
      "_view_module": "@jupyter-widgets/controls",
      "_view_module_version": "1.5.0",
      "_view_name": "HTMLView",
      "description": "",
      "description_tooltip": null,
      "layout": "IPY_MODEL_19663b6ba49a45f1a992c7402ce7a367",
      "placeholder": "​",
      "style": "IPY_MODEL_767efb57ce0141b29cd2a8941dd12491",
      "value": " 465/465 [00:00&lt;00:00, 30.9kB/s]"
     }
    },
    "70638384dc4a4a4daa3326a7c9b50783": {
     "model_module": "@jupyter-widgets/controls",
     "model_module_version": "1.5.0",
     "model_name": "ProgressStyleModel",
     "state": {
      "_model_module": "@jupyter-widgets/controls",
      "_model_module_version": "1.5.0",
      "_model_name": "ProgressStyleModel",
      "_view_count": null,
      "_view_module": "@jupyter-widgets/base",
      "_view_module_version": "1.2.0",
      "_view_name": "StyleView",
      "bar_color": null,
      "description_width": ""
     }
    },
    "70f1983d4d68460baeef3d6b68f7c669": {
     "model_module": "@jupyter-widgets/controls",
     "model_module_version": "1.5.0",
     "model_name": "FloatProgressModel",
     "state": {
      "_dom_classes": [],
      "_model_module": "@jupyter-widgets/controls",
      "_model_module_version": "1.5.0",
      "_model_name": "FloatProgressModel",
      "_view_count": null,
      "_view_module": "@jupyter-widgets/controls",
      "_view_module_version": "1.5.0",
      "_view_name": "ProgressView",
      "bar_style": "success",
      "description": "",
      "description_tooltip": null,
      "layout": "IPY_MODEL_c5a76d20ca944294bcea793f6e2568ed",
      "max": 435797,
      "min": 0,
      "orientation": "horizontal",
      "style": "IPY_MODEL_1d684b49f9f54304abc032c07cfa458d",
      "value": 435797
     }
    },
    "74a58ef392c1400cb03b227999e49edd": {
     "model_module": "@jupyter-widgets/controls",
     "model_module_version": "1.5.0",
     "model_name": "HTMLModel",
     "state": {
      "_dom_classes": [],
      "_model_module": "@jupyter-widgets/controls",
      "_model_module_version": "1.5.0",
      "_model_name": "HTMLModel",
      "_view_count": null,
      "_view_module": "@jupyter-widgets/controls",
      "_view_module_version": "1.5.0",
      "_view_name": "HTMLView",
      "description": "",
      "description_tooltip": null,
      "layout": "IPY_MODEL_85703dbc8f0b450995556ec44306ca47",
      "placeholder": "​",
      "style": "IPY_MODEL_9cc3bd5aa32043a18b9a11acf3a3a264",
      "value": "Map: 100%"
     }
    },
    "767efb57ce0141b29cd2a8941dd12491": {
     "model_module": "@jupyter-widgets/controls",
     "model_module_version": "1.5.0",
     "model_name": "DescriptionStyleModel",
     "state": {
      "_model_module": "@jupyter-widgets/controls",
      "_model_module_version": "1.5.0",
      "_model_name": "DescriptionStyleModel",
      "_view_count": null,
      "_view_module": "@jupyter-widgets/base",
      "_view_module_version": "1.2.0",
      "_view_name": "StyleView",
      "description_width": ""
     }
    },
    "7bf20fbf23d14e2eba89ac126f50bb5a": {
     "model_module": "@jupyter-widgets/controls",
     "model_module_version": "1.5.0",
     "model_name": "FloatProgressModel",
     "state": {
      "_dom_classes": [],
      "_model_module": "@jupyter-widgets/controls",
      "_model_module_version": "1.5.0",
      "_model_name": "FloatProgressModel",
      "_view_count": null,
      "_view_module": "@jupyter-widgets/controls",
      "_view_module_version": "1.5.0",
      "_view_name": "ProgressView",
      "bar_style": "success",
      "description": "",
      "description_tooltip": null,
      "layout": "IPY_MODEL_3f433984911c4bc197f0125a40fa9323",
      "max": 1181,
      "min": 0,
      "orientation": "horizontal",
      "style": "IPY_MODEL_0abe7b2a98fe4ccc953b603fbea5abf5",
      "value": 1181
     }
    },
    "85703dbc8f0b450995556ec44306ca47": {
     "model_module": "@jupyter-widgets/base",
     "model_module_version": "1.2.0",
     "model_name": "LayoutModel",
     "state": {
      "_model_module": "@jupyter-widgets/base",
      "_model_module_version": "1.2.0",
      "_model_name": "LayoutModel",
      "_view_count": null,
      "_view_module": "@jupyter-widgets/base",
      "_view_module_version": "1.2.0",
      "_view_name": "LayoutView",
      "align_content": null,
      "align_items": null,
      "align_self": null,
      "border": null,
      "bottom": null,
      "display": null,
      "flex": null,
      "flex_flow": null,
      "grid_area": null,
      "grid_auto_columns": null,
      "grid_auto_flow": null,
      "grid_auto_rows": null,
      "grid_column": null,
      "grid_gap": null,
      "grid_row": null,
      "grid_template_areas": null,
      "grid_template_columns": null,
      "grid_template_rows": null,
      "height": null,
      "justify_content": null,
      "justify_items": null,
      "left": null,
      "margin": null,
      "max_height": null,
      "max_width": null,
      "min_height": null,
      "min_width": null,
      "object_fit": null,
      "object_position": null,
      "order": null,
      "overflow": null,
      "overflow_x": null,
      "overflow_y": null,
      "padding": null,
      "right": null,
      "top": null,
      "visibility": null,
      "width": null
     }
    },
    "86172d008b0d477ba153fca3c1efc9ee": {
     "model_module": "@jupyter-widgets/controls",
     "model_module_version": "1.5.0",
     "model_name": "DescriptionStyleModel",
     "state": {
      "_model_module": "@jupyter-widgets/controls",
      "_model_module_version": "1.5.0",
      "_model_name": "DescriptionStyleModel",
      "_view_count": null,
      "_view_module": "@jupyter-widgets/base",
      "_view_module_version": "1.2.0",
      "_view_name": "StyleView",
      "description_width": ""
     }
    },
    "878acd4945544fd5afdf3880b809c25d": {
     "model_module": "@jupyter-widgets/base",
     "model_module_version": "1.2.0",
     "model_name": "LayoutModel",
     "state": {
      "_model_module": "@jupyter-widgets/base",
      "_model_module_version": "1.2.0",
      "_model_name": "LayoutModel",
      "_view_count": null,
      "_view_module": "@jupyter-widgets/base",
      "_view_module_version": "1.2.0",
      "_view_name": "LayoutView",
      "align_content": null,
      "align_items": null,
      "align_self": null,
      "border": null,
      "bottom": null,
      "display": null,
      "flex": null,
      "flex_flow": null,
      "grid_area": null,
      "grid_auto_columns": null,
      "grid_auto_flow": null,
      "grid_auto_rows": null,
      "grid_column": null,
      "grid_gap": null,
      "grid_row": null,
      "grid_template_areas": null,
      "grid_template_columns": null,
      "grid_template_rows": null,
      "height": null,
      "justify_content": null,
      "justify_items": null,
      "left": null,
      "margin": null,
      "max_height": null,
      "max_width": null,
      "min_height": null,
      "min_width": null,
      "object_fit": null,
      "object_position": null,
      "order": null,
      "overflow": null,
      "overflow_x": null,
      "overflow_y": null,
      "padding": null,
      "right": null,
      "top": null,
      "visibility": null,
      "width": null
     }
    },
    "88b8bbc04077486ab10cd533ff2cef3e": {
     "model_module": "@jupyter-widgets/base",
     "model_module_version": "1.2.0",
     "model_name": "LayoutModel",
     "state": {
      "_model_module": "@jupyter-widgets/base",
      "_model_module_version": "1.2.0",
      "_model_name": "LayoutModel",
      "_view_count": null,
      "_view_module": "@jupyter-widgets/base",
      "_view_module_version": "1.2.0",
      "_view_name": "LayoutView",
      "align_content": null,
      "align_items": null,
      "align_self": null,
      "border": null,
      "bottom": null,
      "display": null,
      "flex": null,
      "flex_flow": null,
      "grid_area": null,
      "grid_auto_columns": null,
      "grid_auto_flow": null,
      "grid_auto_rows": null,
      "grid_column": null,
      "grid_gap": null,
      "grid_row": null,
      "grid_template_areas": null,
      "grid_template_columns": null,
      "grid_template_rows": null,
      "height": null,
      "justify_content": null,
      "justify_items": null,
      "left": null,
      "margin": null,
      "max_height": null,
      "max_width": null,
      "min_height": null,
      "min_width": null,
      "object_fit": null,
      "object_position": null,
      "order": null,
      "overflow": null,
      "overflow_x": null,
      "overflow_y": null,
      "padding": null,
      "right": null,
      "top": null,
      "visibility": null,
      "width": null
     }
    },
    "88ef025c19d84d2fab27e94f9a2a9223": {
     "model_module": "@jupyter-widgets/controls",
     "model_module_version": "1.5.0",
     "model_name": "HTMLModel",
     "state": {
      "_dom_classes": [],
      "_model_module": "@jupyter-widgets/controls",
      "_model_module_version": "1.5.0",
      "_model_name": "HTMLModel",
      "_view_count": null,
      "_view_module": "@jupyter-widgets/controls",
      "_view_module_version": "1.5.0",
      "_view_name": "HTMLView",
      "description": "",
      "description_tooltip": null,
      "layout": "IPY_MODEL_d9e2df8a39424f19b34a1a81153e8a14",
      "placeholder": "​",
      "style": "IPY_MODEL_24fbe151f1394f8794e264c182a42cab",
      "value": "tokenizer.json: 100%"
     }
    },
    "8b0640ce9b7745f1a8c675139b967f44": {
     "model_module": "@jupyter-widgets/base",
     "model_module_version": "1.2.0",
     "model_name": "LayoutModel",
     "state": {
      "_model_module": "@jupyter-widgets/base",
      "_model_module_version": "1.2.0",
      "_model_name": "LayoutModel",
      "_view_count": null,
      "_view_module": "@jupyter-widgets/base",
      "_view_module_version": "1.2.0",
      "_view_name": "LayoutView",
      "align_content": null,
      "align_items": null,
      "align_self": null,
      "border": null,
      "bottom": null,
      "display": null,
      "flex": null,
      "flex_flow": null,
      "grid_area": null,
      "grid_auto_columns": null,
      "grid_auto_flow": null,
      "grid_auto_rows": null,
      "grid_column": null,
      "grid_gap": null,
      "grid_row": null,
      "grid_template_areas": null,
      "grid_template_columns": null,
      "grid_template_rows": null,
      "height": null,
      "justify_content": null,
      "justify_items": null,
      "left": null,
      "margin": null,
      "max_height": null,
      "max_width": null,
      "min_height": null,
      "min_width": null,
      "object_fit": null,
      "object_position": null,
      "order": null,
      "overflow": null,
      "overflow_x": null,
      "overflow_y": null,
      "padding": null,
      "right": null,
      "top": null,
      "visibility": null,
      "width": null
     }
    },
    "8b5b45937a5a4d23872d00b00732af26": {
     "model_module": "@jupyter-widgets/controls",
     "model_module_version": "1.5.0",
     "model_name": "HTMLModel",
     "state": {
      "_dom_classes": [],
      "_model_module": "@jupyter-widgets/controls",
      "_model_module_version": "1.5.0",
      "_model_name": "HTMLModel",
      "_view_count": null,
      "_view_module": "@jupyter-widgets/controls",
      "_view_module_version": "1.5.0",
      "_view_name": "HTMLView",
      "description": "",
      "description_tooltip": null,
      "layout": "IPY_MODEL_f87d090c835e48f9a78c944cc2ae2025",
      "placeholder": "​",
      "style": "IPY_MODEL_5b9f5d9e63224c59ba2d9f9a670a7463",
      "value": "config.json: 100%"
     }
    },
    "8d616757d0db4e219eedbb4cc2fdaca4": {
     "model_module": "@jupyter-widgets/base",
     "model_module_version": "1.2.0",
     "model_name": "LayoutModel",
     "state": {
      "_model_module": "@jupyter-widgets/base",
      "_model_module_version": "1.2.0",
      "_model_name": "LayoutModel",
      "_view_count": null,
      "_view_module": "@jupyter-widgets/base",
      "_view_module_version": "1.2.0",
      "_view_name": "LayoutView",
      "align_content": null,
      "align_items": null,
      "align_self": null,
      "border": null,
      "bottom": null,
      "display": null,
      "flex": null,
      "flex_flow": null,
      "grid_area": null,
      "grid_auto_columns": null,
      "grid_auto_flow": null,
      "grid_auto_rows": null,
      "grid_column": null,
      "grid_gap": null,
      "grid_row": null,
      "grid_template_areas": null,
      "grid_template_columns": null,
      "grid_template_rows": null,
      "height": null,
      "justify_content": null,
      "justify_items": null,
      "left": null,
      "margin": null,
      "max_height": null,
      "max_width": null,
      "min_height": null,
      "min_width": null,
      "object_fit": null,
      "object_position": null,
      "order": null,
      "overflow": null,
      "overflow_x": null,
      "overflow_y": null,
      "padding": null,
      "right": null,
      "top": null,
      "visibility": null,
      "width": null
     }
    },
    "8e56fae3062a4954bdc53fe075d37c09": {
     "model_module": "@jupyter-widgets/base",
     "model_module_version": "1.2.0",
     "model_name": "LayoutModel",
     "state": {
      "_model_module": "@jupyter-widgets/base",
      "_model_module_version": "1.2.0",
      "_model_name": "LayoutModel",
      "_view_count": null,
      "_view_module": "@jupyter-widgets/base",
      "_view_module_version": "1.2.0",
      "_view_name": "LayoutView",
      "align_content": null,
      "align_items": null,
      "align_self": null,
      "border": null,
      "bottom": null,
      "display": null,
      "flex": null,
      "flex_flow": null,
      "grid_area": null,
      "grid_auto_columns": null,
      "grid_auto_flow": null,
      "grid_auto_rows": null,
      "grid_column": null,
      "grid_gap": null,
      "grid_row": null,
      "grid_template_areas": null,
      "grid_template_columns": null,
      "grid_template_rows": null,
      "height": null,
      "justify_content": null,
      "justify_items": null,
      "left": null,
      "margin": null,
      "max_height": null,
      "max_width": null,
      "min_height": null,
      "min_width": null,
      "object_fit": null,
      "object_position": null,
      "order": null,
      "overflow": null,
      "overflow_x": null,
      "overflow_y": null,
      "padding": null,
      "right": null,
      "top": null,
      "visibility": null,
      "width": null
     }
    },
    "96ad0159570144f0862bc3eff742e056": {
     "model_module": "@jupyter-widgets/base",
     "model_module_version": "1.2.0",
     "model_name": "LayoutModel",
     "state": {
      "_model_module": "@jupyter-widgets/base",
      "_model_module_version": "1.2.0",
      "_model_name": "LayoutModel",
      "_view_count": null,
      "_view_module": "@jupyter-widgets/base",
      "_view_module_version": "1.2.0",
      "_view_name": "LayoutView",
      "align_content": null,
      "align_items": null,
      "align_self": null,
      "border": null,
      "bottom": null,
      "display": null,
      "flex": null,
      "flex_flow": null,
      "grid_area": null,
      "grid_auto_columns": null,
      "grid_auto_flow": null,
      "grid_auto_rows": null,
      "grid_column": null,
      "grid_gap": null,
      "grid_row": null,
      "grid_template_areas": null,
      "grid_template_columns": null,
      "grid_template_rows": null,
      "height": null,
      "justify_content": null,
      "justify_items": null,
      "left": null,
      "margin": null,
      "max_height": null,
      "max_width": null,
      "min_height": null,
      "min_width": null,
      "object_fit": null,
      "object_position": null,
      "order": null,
      "overflow": null,
      "overflow_x": null,
      "overflow_y": null,
      "padding": null,
      "right": null,
      "top": null,
      "visibility": null,
      "width": null
     }
    },
    "978f915fb9e943a3bfb266b8f088cdc7": {
     "model_module": "@jupyter-widgets/controls",
     "model_module_version": "1.5.0",
     "model_name": "DescriptionStyleModel",
     "state": {
      "_model_module": "@jupyter-widgets/controls",
      "_model_module_version": "1.5.0",
      "_model_name": "DescriptionStyleModel",
      "_view_count": null,
      "_view_module": "@jupyter-widgets/base",
      "_view_module_version": "1.2.0",
      "_view_name": "StyleView",
      "description_width": ""
     }
    },
    "97f4da37bb0c4950b431d22d527cd9cb": {
     "model_module": "@jupyter-widgets/base",
     "model_module_version": "1.2.0",
     "model_name": "LayoutModel",
     "state": {
      "_model_module": "@jupyter-widgets/base",
      "_model_module_version": "1.2.0",
      "_model_name": "LayoutModel",
      "_view_count": null,
      "_view_module": "@jupyter-widgets/base",
      "_view_module_version": "1.2.0",
      "_view_name": "LayoutView",
      "align_content": null,
      "align_items": null,
      "align_self": null,
      "border": null,
      "bottom": null,
      "display": null,
      "flex": null,
      "flex_flow": null,
      "grid_area": null,
      "grid_auto_columns": null,
      "grid_auto_flow": null,
      "grid_auto_rows": null,
      "grid_column": null,
      "grid_gap": null,
      "grid_row": null,
      "grid_template_areas": null,
      "grid_template_columns": null,
      "grid_template_rows": null,
      "height": null,
      "justify_content": null,
      "justify_items": null,
      "left": null,
      "margin": null,
      "max_height": null,
      "max_width": null,
      "min_height": null,
      "min_width": null,
      "object_fit": null,
      "object_position": null,
      "order": null,
      "overflow": null,
      "overflow_x": null,
      "overflow_y": null,
      "padding": null,
      "right": null,
      "top": null,
      "visibility": null,
      "width": null
     }
    },
    "9820738317a5454485408aeb612961bf": {
     "model_module": "@jupyter-widgets/controls",
     "model_module_version": "1.5.0",
     "model_name": "FloatProgressModel",
     "state": {
      "_dom_classes": [],
      "_model_module": "@jupyter-widgets/controls",
      "_model_module_version": "1.5.0",
      "_model_name": "FloatProgressModel",
      "_view_count": null,
      "_view_module": "@jupyter-widgets/controls",
      "_view_module_version": "1.5.0",
      "_view_name": "ProgressView",
      "bar_style": "success",
      "description": "",
      "description_tooltip": null,
      "layout": "IPY_MODEL_8d616757d0db4e219eedbb4cc2fdaca4",
      "max": 465,
      "min": 0,
      "orientation": "horizontal",
      "style": "IPY_MODEL_31703e44a3f641399fb27af3ba80e318",
      "value": 465
     }
    },
    "982eb653aebf4ac09df516507ec7a57e": {
     "model_module": "@jupyter-widgets/controls",
     "model_module_version": "1.5.0",
     "model_name": "DescriptionStyleModel",
     "state": {
      "_model_module": "@jupyter-widgets/controls",
      "_model_module_version": "1.5.0",
      "_model_name": "DescriptionStyleModel",
      "_view_count": null,
      "_view_module": "@jupyter-widgets/base",
      "_view_module_version": "1.2.0",
      "_view_name": "StyleView",
      "description_width": ""
     }
    },
    "983ff244ad1643aebef0e66a79b232f2": {
     "model_module": "@jupyter-widgets/controls",
     "model_module_version": "1.5.0",
     "model_name": "DescriptionStyleModel",
     "state": {
      "_model_module": "@jupyter-widgets/controls",
      "_model_module_version": "1.5.0",
      "_model_name": "DescriptionStyleModel",
      "_view_count": null,
      "_view_module": "@jupyter-widgets/base",
      "_view_module_version": "1.2.0",
      "_view_name": "StyleView",
      "description_width": ""
     }
    },
    "9c91648a00304b86b5312ec2e4315e5f": {
     "model_module": "@jupyter-widgets/base",
     "model_module_version": "1.2.0",
     "model_name": "LayoutModel",
     "state": {
      "_model_module": "@jupyter-widgets/base",
      "_model_module_version": "1.2.0",
      "_model_name": "LayoutModel",
      "_view_count": null,
      "_view_module": "@jupyter-widgets/base",
      "_view_module_version": "1.2.0",
      "_view_name": "LayoutView",
      "align_content": null,
      "align_items": null,
      "align_self": null,
      "border": null,
      "bottom": null,
      "display": null,
      "flex": null,
      "flex_flow": null,
      "grid_area": null,
      "grid_auto_columns": null,
      "grid_auto_flow": null,
      "grid_auto_rows": null,
      "grid_column": null,
      "grid_gap": null,
      "grid_row": null,
      "grid_template_areas": null,
      "grid_template_columns": null,
      "grid_template_rows": null,
      "height": null,
      "justify_content": null,
      "justify_items": null,
      "left": null,
      "margin": null,
      "max_height": null,
      "max_width": null,
      "min_height": null,
      "min_width": null,
      "object_fit": null,
      "object_position": null,
      "order": null,
      "overflow": null,
      "overflow_x": null,
      "overflow_y": null,
      "padding": null,
      "right": null,
      "top": null,
      "visibility": null,
      "width": null
     }
    },
    "9cc3bd5aa32043a18b9a11acf3a3a264": {
     "model_module": "@jupyter-widgets/controls",
     "model_module_version": "1.5.0",
     "model_name": "DescriptionStyleModel",
     "state": {
      "_model_module": "@jupyter-widgets/controls",
      "_model_module_version": "1.5.0",
      "_model_name": "DescriptionStyleModel",
      "_view_count": null,
      "_view_module": "@jupyter-widgets/base",
      "_view_module_version": "1.2.0",
      "_view_name": "StyleView",
      "description_width": ""
     }
    },
    "9fdc10bae08b4be0ba4728cdd2a6522b": {
     "model_module": "@jupyter-widgets/base",
     "model_module_version": "1.2.0",
     "model_name": "LayoutModel",
     "state": {
      "_model_module": "@jupyter-widgets/base",
      "_model_module_version": "1.2.0",
      "_model_name": "LayoutModel",
      "_view_count": null,
      "_view_module": "@jupyter-widgets/base",
      "_view_module_version": "1.2.0",
      "_view_name": "LayoutView",
      "align_content": null,
      "align_items": null,
      "align_self": null,
      "border": null,
      "bottom": null,
      "display": null,
      "flex": null,
      "flex_flow": null,
      "grid_area": null,
      "grid_auto_columns": null,
      "grid_auto_flow": null,
      "grid_auto_rows": null,
      "grid_column": null,
      "grid_gap": null,
      "grid_row": null,
      "grid_template_areas": null,
      "grid_template_columns": null,
      "grid_template_rows": null,
      "height": null,
      "justify_content": null,
      "justify_items": null,
      "left": null,
      "margin": null,
      "max_height": null,
      "max_width": null,
      "min_height": null,
      "min_width": null,
      "object_fit": null,
      "object_position": null,
      "order": null,
      "overflow": null,
      "overflow_x": null,
      "overflow_y": null,
      "padding": null,
      "right": null,
      "top": null,
      "visibility": null,
      "width": null
     }
    },
    "a2f3828a90694d2e95d3db4a10cb2cf6": {
     "model_module": "@jupyter-widgets/controls",
     "model_module_version": "1.5.0",
     "model_name": "HTMLModel",
     "state": {
      "_dom_classes": [],
      "_model_module": "@jupyter-widgets/controls",
      "_model_module_version": "1.5.0",
      "_model_name": "HTMLModel",
      "_view_count": null,
      "_view_module": "@jupyter-widgets/controls",
      "_view_module_version": "1.5.0",
      "_view_name": "HTMLView",
      "description": "",
      "description_tooltip": null,
      "layout": "IPY_MODEL_b57082ca176543bca1a2fc5a954b6f38",
      "placeholder": "​",
      "style": "IPY_MODEL_d55471ca16d64f2a91a17c0667eb93b4",
      "value": " 29.0/29.0 [00:00&lt;00:00, 1.12kB/s]"
     }
    },
    "a446d35fcc9b4a3d91c9a5e9bbf017da": {
     "model_module": "@jupyter-widgets/controls",
     "model_module_version": "1.5.0",
     "model_name": "ProgressStyleModel",
     "state": {
      "_model_module": "@jupyter-widgets/controls",
      "_model_module_version": "1.5.0",
      "_model_name": "ProgressStyleModel",
      "_view_count": null,
      "_view_module": "@jupyter-widgets/base",
      "_view_module_version": "1.2.0",
      "_view_name": "StyleView",
      "bar_color": null,
      "description_width": ""
     }
    },
    "abc2e80a54c34bd68012c410831326ac": {
     "model_module": "@jupyter-widgets/controls",
     "model_module_version": "1.5.0",
     "model_name": "HTMLModel",
     "state": {
      "_dom_classes": [],
      "_model_module": "@jupyter-widgets/controls",
      "_model_module_version": "1.5.0",
      "_model_name": "HTMLModel",
      "_view_count": null,
      "_view_module": "@jupyter-widgets/controls",
      "_view_module_version": "1.5.0",
      "_view_name": "HTMLView",
      "description": "",
      "description_tooltip": null,
      "layout": "IPY_MODEL_2885d47862104b5c8dc8f2c5c570ca8e",
      "placeholder": "​",
      "style": "IPY_MODEL_b5d73fb723ac402ea3b3f7b46db7ba4e",
      "value": "Downloading builder script: 100%"
     }
    },
    "aceb959d1a72470a948d77fe40ce208c": {
     "model_module": "@jupyter-widgets/controls",
     "model_module_version": "1.5.0",
     "model_name": "DescriptionStyleModel",
     "state": {
      "_model_module": "@jupyter-widgets/controls",
      "_model_module_version": "1.5.0",
      "_model_name": "DescriptionStyleModel",
      "_view_count": null,
      "_view_module": "@jupyter-widgets/base",
      "_view_module_version": "1.2.0",
      "_view_name": "StyleView",
      "description_width": ""
     }
    },
    "b0b8973eecff4a4fa455a7f8a001828b": {
     "model_module": "@jupyter-widgets/base",
     "model_module_version": "1.2.0",
     "model_name": "LayoutModel",
     "state": {
      "_model_module": "@jupyter-widgets/base",
      "_model_module_version": "1.2.0",
      "_model_name": "LayoutModel",
      "_view_count": null,
      "_view_module": "@jupyter-widgets/base",
      "_view_module_version": "1.2.0",
      "_view_name": "LayoutView",
      "align_content": null,
      "align_items": null,
      "align_self": null,
      "border": null,
      "bottom": null,
      "display": null,
      "flex": null,
      "flex_flow": null,
      "grid_area": null,
      "grid_auto_columns": null,
      "grid_auto_flow": null,
      "grid_auto_rows": null,
      "grid_column": null,
      "grid_gap": null,
      "grid_row": null,
      "grid_template_areas": null,
      "grid_template_columns": null,
      "grid_template_rows": null,
      "height": null,
      "justify_content": null,
      "justify_items": null,
      "left": null,
      "margin": null,
      "max_height": null,
      "max_width": null,
      "min_height": null,
      "min_width": null,
      "object_fit": null,
      "object_position": null,
      "order": null,
      "overflow": null,
      "overflow_x": null,
      "overflow_y": null,
      "padding": null,
      "right": null,
      "top": null,
      "visibility": null,
      "width": null
     }
    },
    "b23402fc02b148e8b8815df444234215": {
     "model_module": "@jupyter-widgets/controls",
     "model_module_version": "1.5.0",
     "model_name": "ProgressStyleModel",
     "state": {
      "_model_module": "@jupyter-widgets/controls",
      "_model_module_version": "1.5.0",
      "_model_name": "ProgressStyleModel",
      "_view_count": null,
      "_view_module": "@jupyter-widgets/base",
      "_view_module_version": "1.2.0",
      "_view_name": "StyleView",
      "bar_color": null,
      "description_width": ""
     }
    },
    "b57082ca176543bca1a2fc5a954b6f38": {
     "model_module": "@jupyter-widgets/base",
     "model_module_version": "1.2.0",
     "model_name": "LayoutModel",
     "state": {
      "_model_module": "@jupyter-widgets/base",
      "_model_module_version": "1.2.0",
      "_model_name": "LayoutModel",
      "_view_count": null,
      "_view_module": "@jupyter-widgets/base",
      "_view_module_version": "1.2.0",
      "_view_name": "LayoutView",
      "align_content": null,
      "align_items": null,
      "align_self": null,
      "border": null,
      "bottom": null,
      "display": null,
      "flex": null,
      "flex_flow": null,
      "grid_area": null,
      "grid_auto_columns": null,
      "grid_auto_flow": null,
      "grid_auto_rows": null,
      "grid_column": null,
      "grid_gap": null,
      "grid_row": null,
      "grid_template_areas": null,
      "grid_template_columns": null,
      "grid_template_rows": null,
      "height": null,
      "justify_content": null,
      "justify_items": null,
      "left": null,
      "margin": null,
      "max_height": null,
      "max_width": null,
      "min_height": null,
      "min_width": null,
      "object_fit": null,
      "object_position": null,
      "order": null,
      "overflow": null,
      "overflow_x": null,
      "overflow_y": null,
      "padding": null,
      "right": null,
      "top": null,
      "visibility": null,
      "width": null
     }
    },
    "b5d73fb723ac402ea3b3f7b46db7ba4e": {
     "model_module": "@jupyter-widgets/controls",
     "model_module_version": "1.5.0",
     "model_name": "DescriptionStyleModel",
     "state": {
      "_model_module": "@jupyter-widgets/controls",
      "_model_module_version": "1.5.0",
      "_model_name": "DescriptionStyleModel",
      "_view_count": null,
      "_view_module": "@jupyter-widgets/base",
      "_view_module_version": "1.2.0",
      "_view_name": "StyleView",
      "description_width": ""
     }
    },
    "bb0afc0aee90458ba140afb16d216696": {
     "model_module": "@jupyter-widgets/controls",
     "model_module_version": "1.5.0",
     "model_name": "FloatProgressModel",
     "state": {
      "_dom_classes": [],
      "_model_module": "@jupyter-widgets/controls",
      "_model_module_version": "1.5.0",
      "_model_name": "FloatProgressModel",
      "_view_count": null,
      "_view_module": "@jupyter-widgets/controls",
      "_view_module_version": "1.5.0",
      "_view_name": "ProgressView",
      "bar_style": "success",
      "description": "",
      "description_tooltip": null,
      "layout": "IPY_MODEL_3af0dc22f0bd4e01a5c3ea2df2b9a98a",
      "max": 213450,
      "min": 0,
      "orientation": "horizontal",
      "style": "IPY_MODEL_e14af5c765214ad7984606f99de84ec2",
      "value": 213450
     }
    },
    "bc0c4d03073e45f08a278ebd06dc8426": {
     "model_module": "@jupyter-widgets/controls",
     "model_module_version": "1.5.0",
     "model_name": "HTMLModel",
     "state": {
      "_dom_classes": [],
      "_model_module": "@jupyter-widgets/controls",
      "_model_module_version": "1.5.0",
      "_model_name": "HTMLModel",
      "_view_count": null,
      "_view_module": "@jupyter-widgets/controls",
      "_view_module_version": "1.5.0",
      "_view_name": "HTMLView",
      "description": "",
      "description_tooltip": null,
      "layout": "IPY_MODEL_242d141edb6042c6bff3fce7adf37920",
      "placeholder": "​",
      "style": "IPY_MODEL_6780def75c734ffeac2c2f01c2f49b25",
      "value": " 4.49k/4.49k [00:00&lt;00:00, 263kB/s]"
     }
    },
    "be3082e613d943b98535509a0391826f": {
     "model_module": "@jupyter-widgets/base",
     "model_module_version": "1.2.0",
     "model_name": "LayoutModel",
     "state": {
      "_model_module": "@jupyter-widgets/base",
      "_model_module_version": "1.2.0",
      "_model_name": "LayoutModel",
      "_view_count": null,
      "_view_module": "@jupyter-widgets/base",
      "_view_module_version": "1.2.0",
      "_view_name": "LayoutView",
      "align_content": null,
      "align_items": null,
      "align_self": null,
      "border": null,
      "bottom": null,
      "display": null,
      "flex": null,
      "flex_flow": null,
      "grid_area": null,
      "grid_auto_columns": null,
      "grid_auto_flow": null,
      "grid_auto_rows": null,
      "grid_column": null,
      "grid_gap": null,
      "grid_row": null,
      "grid_template_areas": null,
      "grid_template_columns": null,
      "grid_template_rows": null,
      "height": null,
      "justify_content": null,
      "justify_items": null,
      "left": null,
      "margin": null,
      "max_height": null,
      "max_width": null,
      "min_height": null,
      "min_width": null,
      "object_fit": null,
      "object_position": null,
      "order": null,
      "overflow": null,
      "overflow_x": null,
      "overflow_y": null,
      "padding": null,
      "right": null,
      "top": null,
      "visibility": null,
      "width": null
     }
    },
    "be85cb15d64d4dcfb3cd8de679a14dbe": {
     "model_module": "@jupyter-widgets/controls",
     "model_module_version": "1.5.0",
     "model_name": "HTMLModel",
     "state": {
      "_dom_classes": [],
      "_model_module": "@jupyter-widgets/controls",
      "_model_module_version": "1.5.0",
      "_model_name": "HTMLModel",
      "_view_count": null,
      "_view_module": "@jupyter-widgets/controls",
      "_view_module_version": "1.5.0",
      "_view_name": "HTMLView",
      "description": "",
      "description_tooltip": null,
      "layout": "IPY_MODEL_319ad459df124e43a01ab63dc387e615",
      "placeholder": "​",
      "style": "IPY_MODEL_978f915fb9e943a3bfb266b8f088cdc7",
      "value": "tokenizer_config.json: 100%"
     }
    },
    "c5a76d20ca944294bcea793f6e2568ed": {
     "model_module": "@jupyter-widgets/base",
     "model_module_version": "1.2.0",
     "model_name": "LayoutModel",
     "state": {
      "_model_module": "@jupyter-widgets/base",
      "_model_module_version": "1.2.0",
      "_model_name": "LayoutModel",
      "_view_count": null,
      "_view_module": "@jupyter-widgets/base",
      "_view_module_version": "1.2.0",
      "_view_name": "LayoutView",
      "align_content": null,
      "align_items": null,
      "align_self": null,
      "border": null,
      "bottom": null,
      "display": null,
      "flex": null,
      "flex_flow": null,
      "grid_area": null,
      "grid_auto_columns": null,
      "grid_auto_flow": null,
      "grid_auto_rows": null,
      "grid_column": null,
      "grid_gap": null,
      "grid_row": null,
      "grid_template_areas": null,
      "grid_template_columns": null,
      "grid_template_rows": null,
      "height": null,
      "justify_content": null,
      "justify_items": null,
      "left": null,
      "margin": null,
      "max_height": null,
      "max_width": null,
      "min_height": null,
      "min_width": null,
      "object_fit": null,
      "object_position": null,
      "order": null,
      "overflow": null,
      "overflow_x": null,
      "overflow_y": null,
      "padding": null,
      "right": null,
      "top": null,
      "visibility": null,
      "width": null
     }
    },
    "d304516a7bf24370a8caed134b802aa4": {
     "model_module": "@jupyter-widgets/base",
     "model_module_version": "1.2.0",
     "model_name": "LayoutModel",
     "state": {
      "_model_module": "@jupyter-widgets/base",
      "_model_module_version": "1.2.0",
      "_model_name": "LayoutModel",
      "_view_count": null,
      "_view_module": "@jupyter-widgets/base",
      "_view_module_version": "1.2.0",
      "_view_name": "LayoutView",
      "align_content": null,
      "align_items": null,
      "align_self": null,
      "border": null,
      "bottom": null,
      "display": null,
      "flex": null,
      "flex_flow": null,
      "grid_area": null,
      "grid_auto_columns": null,
      "grid_auto_flow": null,
      "grid_auto_rows": null,
      "grid_column": null,
      "grid_gap": null,
      "grid_row": null,
      "grid_template_areas": null,
      "grid_template_columns": null,
      "grid_template_rows": null,
      "height": null,
      "justify_content": null,
      "justify_items": null,
      "left": null,
      "margin": null,
      "max_height": null,
      "max_width": null,
      "min_height": null,
      "min_width": null,
      "object_fit": null,
      "object_position": null,
      "order": null,
      "overflow": null,
      "overflow_x": null,
      "overflow_y": null,
      "padding": null,
      "right": null,
      "top": null,
      "visibility": null,
      "width": null
     }
    },
    "d55471ca16d64f2a91a17c0667eb93b4": {
     "model_module": "@jupyter-widgets/controls",
     "model_module_version": "1.5.0",
     "model_name": "DescriptionStyleModel",
     "state": {
      "_model_module": "@jupyter-widgets/controls",
      "_model_module_version": "1.5.0",
      "_model_name": "DescriptionStyleModel",
      "_view_count": null,
      "_view_module": "@jupyter-widgets/base",
      "_view_module_version": "1.2.0",
      "_view_name": "StyleView",
      "description_width": ""
     }
    },
    "d9e2df8a39424f19b34a1a81153e8a14": {
     "model_module": "@jupyter-widgets/base",
     "model_module_version": "1.2.0",
     "model_name": "LayoutModel",
     "state": {
      "_model_module": "@jupyter-widgets/base",
      "_model_module_version": "1.2.0",
      "_model_name": "LayoutModel",
      "_view_count": null,
      "_view_module": "@jupyter-widgets/base",
      "_view_module_version": "1.2.0",
      "_view_name": "LayoutView",
      "align_content": null,
      "align_items": null,
      "align_self": null,
      "border": null,
      "bottom": null,
      "display": null,
      "flex": null,
      "flex_flow": null,
      "grid_area": null,
      "grid_auto_columns": null,
      "grid_auto_flow": null,
      "grid_auto_rows": null,
      "grid_column": null,
      "grid_gap": null,
      "grid_row": null,
      "grid_template_areas": null,
      "grid_template_columns": null,
      "grid_template_rows": null,
      "height": null,
      "justify_content": null,
      "justify_items": null,
      "left": null,
      "margin": null,
      "max_height": null,
      "max_width": null,
      "min_height": null,
      "min_width": null,
      "object_fit": null,
      "object_position": null,
      "order": null,
      "overflow": null,
      "overflow_x": null,
      "overflow_y": null,
      "padding": null,
      "right": null,
      "top": null,
      "visibility": null,
      "width": null
     }
    },
    "dbf1b1a0ebd142148a19be69fc3b774d": {
     "model_module": "@jupyter-widgets/controls",
     "model_module_version": "1.5.0",
     "model_name": "HTMLModel",
     "state": {
      "_dom_classes": [],
      "_model_module": "@jupyter-widgets/controls",
      "_model_module_version": "1.5.0",
      "_model_name": "HTMLModel",
      "_view_count": null,
      "_view_module": "@jupyter-widgets/controls",
      "_view_module_version": "1.5.0",
      "_view_name": "HTMLView",
      "description": "",
      "description_tooltip": null,
      "layout": "IPY_MODEL_5f972b15c8a14a84889a3c2ba1d61a9c",
      "placeholder": "​",
      "style": "IPY_MODEL_aceb959d1a72470a948d77fe40ce208c",
      "value": "Downloading builder script: 100%"
     }
    },
    "dc8a0a9ff1814c94a32690b524649add": {
     "model_module": "@jupyter-widgets/base",
     "model_module_version": "1.2.0",
     "model_name": "LayoutModel",
     "state": {
      "_model_module": "@jupyter-widgets/base",
      "_model_module_version": "1.2.0",
      "_model_name": "LayoutModel",
      "_view_count": null,
      "_view_module": "@jupyter-widgets/base",
      "_view_module_version": "1.2.0",
      "_view_name": "LayoutView",
      "align_content": null,
      "align_items": null,
      "align_self": null,
      "border": null,
      "bottom": null,
      "display": null,
      "flex": null,
      "flex_flow": null,
      "grid_area": null,
      "grid_auto_columns": null,
      "grid_auto_flow": null,
      "grid_auto_rows": null,
      "grid_column": null,
      "grid_gap": null,
      "grid_row": null,
      "grid_template_areas": null,
      "grid_template_columns": null,
      "grid_template_rows": null,
      "height": null,
      "justify_content": null,
      "justify_items": null,
      "left": null,
      "margin": null,
      "max_height": null,
      "max_width": null,
      "min_height": null,
      "min_width": null,
      "object_fit": null,
      "object_position": null,
      "order": null,
      "overflow": null,
      "overflow_x": null,
      "overflow_y": null,
      "padding": null,
      "right": null,
      "top": null,
      "visibility": null,
      "width": null
     }
    },
    "e14af5c765214ad7984606f99de84ec2": {
     "model_module": "@jupyter-widgets/controls",
     "model_module_version": "1.5.0",
     "model_name": "ProgressStyleModel",
     "state": {
      "_model_module": "@jupyter-widgets/controls",
      "_model_module_version": "1.5.0",
      "_model_name": "ProgressStyleModel",
      "_view_count": null,
      "_view_module": "@jupyter-widgets/base",
      "_view_module_version": "1.2.0",
      "_view_name": "StyleView",
      "bar_color": null,
      "description_width": ""
     }
    },
    "e1d3d018e086431c956058df5569557b": {
     "model_module": "@jupyter-widgets/base",
     "model_module_version": "1.2.0",
     "model_name": "LayoutModel",
     "state": {
      "_model_module": "@jupyter-widgets/base",
      "_model_module_version": "1.2.0",
      "_model_name": "LayoutModel",
      "_view_count": null,
      "_view_module": "@jupyter-widgets/base",
      "_view_module_version": "1.2.0",
      "_view_name": "LayoutView",
      "align_content": null,
      "align_items": null,
      "align_self": null,
      "border": null,
      "bottom": null,
      "display": null,
      "flex": null,
      "flex_flow": null,
      "grid_area": null,
      "grid_auto_columns": null,
      "grid_auto_flow": null,
      "grid_auto_rows": null,
      "grid_column": null,
      "grid_gap": null,
      "grid_row": null,
      "grid_template_areas": null,
      "grid_template_columns": null,
      "grid_template_rows": null,
      "height": null,
      "justify_content": null,
      "justify_items": null,
      "left": null,
      "margin": null,
      "max_height": null,
      "max_width": null,
      "min_height": null,
      "min_width": null,
      "object_fit": null,
      "object_position": null,
      "order": null,
      "overflow": null,
      "overflow_x": null,
      "overflow_y": null,
      "padding": null,
      "right": null,
      "top": null,
      "visibility": null,
      "width": null
     }
    },
    "e224d3079c4340fb94a9d2992f46f070": {
     "model_module": "@jupyter-widgets/controls",
     "model_module_version": "1.5.0",
     "model_name": "HTMLModel",
     "state": {
      "_dom_classes": [],
      "_model_module": "@jupyter-widgets/controls",
      "_model_module_version": "1.5.0",
      "_model_name": "HTMLModel",
      "_view_count": null,
      "_view_module": "@jupyter-widgets/controls",
      "_view_module_version": "1.5.0",
      "_view_name": "HTMLView",
      "description": "",
      "description_tooltip": null,
      "layout": "IPY_MODEL_d304516a7bf24370a8caed134b802aa4",
      "placeholder": "​",
      "style": "IPY_MODEL_1742cd149564492b9991991a3d5340df",
      "value": " 436k/436k [00:00&lt;00:00, 16.7MB/s]"
     }
    },
    "e3d690ac577d4fcfa2f1d1edb554166c": {
     "model_module": "@jupyter-widgets/controls",
     "model_module_version": "1.5.0",
     "model_name": "DescriptionStyleModel",
     "state": {
      "_model_module": "@jupyter-widgets/controls",
      "_model_module_version": "1.5.0",
      "_model_name": "DescriptionStyleModel",
      "_view_count": null,
      "_view_module": "@jupyter-widgets/base",
      "_view_module_version": "1.2.0",
      "_view_name": "StyleView",
      "description_width": ""
     }
    },
    "e6685d9beb3e464c881ca33fffecabde": {
     "model_module": "@jupyter-widgets/base",
     "model_module_version": "1.2.0",
     "model_name": "LayoutModel",
     "state": {
      "_model_module": "@jupyter-widgets/base",
      "_model_module_version": "1.2.0",
      "_model_name": "LayoutModel",
      "_view_count": null,
      "_view_module": "@jupyter-widgets/base",
      "_view_module_version": "1.2.0",
      "_view_name": "LayoutView",
      "align_content": null,
      "align_items": null,
      "align_self": null,
      "border": null,
      "bottom": null,
      "display": null,
      "flex": null,
      "flex_flow": null,
      "grid_area": null,
      "grid_auto_columns": null,
      "grid_auto_flow": null,
      "grid_auto_rows": null,
      "grid_column": null,
      "grid_gap": null,
      "grid_row": null,
      "grid_template_areas": null,
      "grid_template_columns": null,
      "grid_template_rows": null,
      "height": null,
      "justify_content": null,
      "justify_items": null,
      "left": null,
      "margin": null,
      "max_height": null,
      "max_width": null,
      "min_height": null,
      "min_width": null,
      "object_fit": null,
      "object_position": null,
      "order": null,
      "overflow": null,
      "overflow_x": null,
      "overflow_y": null,
      "padding": null,
      "right": null,
      "top": null,
      "visibility": null,
      "width": null
     }
    },
    "f36cad5339c040ae9f2fd326cd3e23d0": {
     "model_module": "@jupyter-widgets/controls",
     "model_module_version": "1.5.0",
     "model_name": "HBoxModel",
     "state": {
      "_dom_classes": [],
      "_model_module": "@jupyter-widgets/controls",
      "_model_module_version": "1.5.0",
      "_model_name": "HBoxModel",
      "_view_count": null,
      "_view_module": "@jupyter-widgets/controls",
      "_view_module_version": "1.5.0",
      "_view_name": "HBoxView",
      "box_style": "",
      "children": [
       "IPY_MODEL_8b5b45937a5a4d23872d00b00732af26",
       "IPY_MODEL_9820738317a5454485408aeb612961bf",
       "IPY_MODEL_70339fc918314723873fc78621372670"
      ],
      "layout": "IPY_MODEL_9c91648a00304b86b5312ec2e4315e5f"
     }
    },
    "f656f0d2052e49b5a23821d8566b9096": {
     "model_module": "@jupyter-widgets/controls",
     "model_module_version": "1.5.0",
     "model_name": "HTMLModel",
     "state": {
      "_dom_classes": [],
      "_model_module": "@jupyter-widgets/controls",
      "_model_module_version": "1.5.0",
      "_model_name": "HTMLModel",
      "_view_count": null,
      "_view_module": "@jupyter-widgets/controls",
      "_view_module_version": "1.5.0",
      "_view_name": "HTMLView",
      "description": "",
      "description_tooltip": null,
      "layout": "IPY_MODEL_97f4da37bb0c4950b431d22d527cd9cb",
      "placeholder": "​",
      "style": "IPY_MODEL_86172d008b0d477ba153fca3c1efc9ee",
      "value": " 263M/263M [00:01&lt;00:00, 179MB/s]"
     }
    },
    "f87d090c835e48f9a78c944cc2ae2025": {
     "model_module": "@jupyter-widgets/base",
     "model_module_version": "1.2.0",
     "model_name": "LayoutModel",
     "state": {
      "_model_module": "@jupyter-widgets/base",
      "_model_module_version": "1.2.0",
      "_model_name": "LayoutModel",
      "_view_count": null,
      "_view_module": "@jupyter-widgets/base",
      "_view_module_version": "1.2.0",
      "_view_name": "LayoutView",
      "align_content": null,
      "align_items": null,
      "align_self": null,
      "border": null,
      "bottom": null,
      "display": null,
      "flex": null,
      "flex_flow": null,
      "grid_area": null,
      "grid_auto_columns": null,
      "grid_auto_flow": null,
      "grid_auto_rows": null,
      "grid_column": null,
      "grid_gap": null,
      "grid_row": null,
      "grid_template_areas": null,
      "grid_template_columns": null,
      "grid_template_rows": null,
      "height": null,
      "justify_content": null,
      "justify_items": null,
      "left": null,
      "margin": null,
      "max_height": null,
      "max_width": null,
      "min_height": null,
      "min_width": null,
      "object_fit": null,
      "object_position": null,
      "order": null,
      "overflow": null,
      "overflow_x": null,
      "overflow_y": null,
      "padding": null,
      "right": null,
      "top": null,
      "visibility": null,
      "width": null
     }
    },
    "fa34fc002ee24dab94e6049c35ce3fc5": {
     "model_module": "@jupyter-widgets/controls",
     "model_module_version": "1.5.0",
     "model_name": "HTMLModel",
     "state": {
      "_dom_classes": [],
      "_model_module": "@jupyter-widgets/controls",
      "_model_module_version": "1.5.0",
      "_model_name": "HTMLModel",
      "_view_count": null,
      "_view_module": "@jupyter-widgets/controls",
      "_view_module_version": "1.5.0",
      "_view_name": "HTMLView",
      "description": "",
      "description_tooltip": null,
      "layout": "IPY_MODEL_b0b8973eecff4a4fa455a7f8a001828b",
      "placeholder": "​",
      "style": "IPY_MODEL_982eb653aebf4ac09df516507ec7a57e",
      "value": "vocab.txt: 100%"
     }
    },
    "fab10ab0f3d748ea8727fb0834921982": {
     "model_module": "@jupyter-widgets/controls",
     "model_module_version": "1.5.0",
     "model_name": "HBoxModel",
     "state": {
      "_dom_classes": [],
      "_model_module": "@jupyter-widgets/controls",
      "_model_module_version": "1.5.0",
      "_model_name": "HBoxModel",
      "_view_count": null,
      "_view_module": "@jupyter-widgets/controls",
      "_view_module_version": "1.5.0",
      "_view_name": "HBoxView",
      "box_style": "",
      "children": [
       "IPY_MODEL_fa34fc002ee24dab94e6049c35ce3fc5",
       "IPY_MODEL_bb0afc0aee90458ba140afb16d216696",
       "IPY_MODEL_38b85482a4034cc0b0f734f5776e8d62"
      ],
      "layout": "IPY_MODEL_878acd4945544fd5afdf3880b809c25d"
     }
    },
    "fb42771a92234e769f41eba545e36dea": {
     "model_module": "@jupyter-widgets/base",
     "model_module_version": "1.2.0",
     "model_name": "LayoutModel",
     "state": {
      "_model_module": "@jupyter-widgets/base",
      "_model_module_version": "1.2.0",
      "_model_name": "LayoutModel",
      "_view_count": null,
      "_view_module": "@jupyter-widgets/base",
      "_view_module_version": "1.2.0",
      "_view_name": "LayoutView",
      "align_content": null,
      "align_items": null,
      "align_self": null,
      "border": null,
      "bottom": null,
      "display": null,
      "flex": null,
      "flex_flow": null,
      "grid_area": null,
      "grid_auto_columns": null,
      "grid_auto_flow": null,
      "grid_auto_rows": null,
      "grid_column": null,
      "grid_gap": null,
      "grid_row": null,
      "grid_template_areas": null,
      "grid_template_columns": null,
      "grid_template_rows": null,
      "height": null,
      "justify_content": null,
      "justify_items": null,
      "left": null,
      "margin": null,
      "max_height": null,
      "max_width": null,
      "min_height": null,
      "min_width": null,
      "object_fit": null,
      "object_position": null,
      "order": null,
      "overflow": null,
      "overflow_x": null,
      "overflow_y": null,
      "padding": null,
      "right": null,
      "top": null,
      "visibility": null,
      "width": null
     }
    }
   }
  }
 },
 "nbformat": 4,
 "nbformat_minor": 5
}
